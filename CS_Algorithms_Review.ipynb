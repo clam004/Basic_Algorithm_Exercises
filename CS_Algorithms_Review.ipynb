{
 "cells": [
  {
   "cell_type": "markdown",
   "metadata": {},
   "source": [
    "## Data Structures and Algorithms Review\n",
    "\n",
    "A collection of basic algorithmic design exercises with math and explanations\n",
    "\n",
    "https://www.teach.cs.toronto.edu/~csc110y/fall/notes/"
   ]
  },
  {
   "cell_type": "markdown",
   "metadata": {},
   "source": [
    "### MergeSort & QuickSort\n",
    "\n",
    "https://www.geeksforgeeks.org/quick-sort-vs-merge-sort/ \n",
    "\n",
    "Both these sorting algorithms have O(nlog(n)) time complexity\n",
    "\n",
    "Mergesort is a classic and great teaching example of recurrence and Big-O analysis \n",
    "\n",
    "Recurrence has 3 properties, and these are those 3 properties in the context of\n",
    "MergeSort sorting an array:\n",
    "\n",
    "1. basecase = when array is length 1\n",
    "\n",
    "2. recurrence = sort the left and right portions of the array same as you sort the array\n",
    "\n",
    "3. work = combines 2 already sorted arrays into 1 sorted array \n",
    "\n",
    "Below is the mergesort function but further down is the line by line breakdown\n",
    "\n",
    "As you look at the overall function below, the first thing to notice is that the recurrence is such that at each level of recurrence the length n job is divided into 2 jobs of length n/2"
   ]
  },
  {
   "cell_type": "code",
   "execution_count": 22,
   "metadata": {},
   "outputs": [],
   "source": [
    "# Merge Sort O(nlogn) \n",
    "def mergeSort(arr): \n",
    "    # 1. Basecase = when array is length 1 return the single element array, \n",
    "    # here the modification of the array is done in place, so do nothing if \n",
    "    # len(arr) < 1, else apply the recursion, there is nothing to return\n",
    "    if len(arr) > 1: \n",
    "        # Divide the array elements into 2 halves\n",
    "        mid = len(arr)//2 #Finding the mid of the array, 5//2 = 4//2 = 2\n",
    "        \n",
    "        # 2. Recurrence = sort the left and right portions of the array\n",
    "        # Copy data to temp arrays L[] and R[], modify arr in place. O(long(n))\n",
    "        L = arr[:mid] \n",
    "        R = arr[mid:] \n",
    "        mergeSort(L) # Sorting the first half \n",
    "        mergeSort(R) # Sorting the second half \n",
    "        \n",
    "        # 3. Work = combines 2 already sorted arrays into 1 sorted array O(n)\n",
    "        i = j = k = 0\n",
    "          \n",
    "        print(\"merge\")\n",
    "        while i < len(L) and j < len(R): \n",
    "            if L[i] < R[j]: \n",
    "                arr[k] = L[i] \n",
    "                i+=1\n",
    "            else: \n",
    "                arr[k] = R[j] \n",
    "                j+=1\n",
    "            k+=1\n",
    "        \n",
    "        # Checking if any elements are remaining in L or R, \n",
    "        # if so they must be larger than arr\n",
    "        while i < len(L): \n",
    "            print(\"l\")\n",
    "            arr[k] = L[i] \n",
    "            i+=1\n",
    "            k+=1\n",
    "            \n",
    "        while j < len(R): \n",
    "            print(\"r\")\n",
    "            arr[k] = R[j] \n",
    "            j+=1\n",
    "            k+=1\n",
    "            \n",
    "# O(log(n)) x O(n) = O(nlog(n))"
   ]
  },
  {
   "cell_type": "code",
   "execution_count": 23,
   "metadata": {},
   "outputs": [
    {
     "name": "stdout",
     "output_type": "stream",
     "text": [
      "unsorted [5, 2, 4, 0, 3]\n",
      "merge\n",
      "l\n",
      "merge\n",
      "r\n",
      "merge\n",
      "l\n",
      "merge\n",
      "l\n",
      "sorted [0, 2, 3, 4, 5]\n"
     ]
    }
   ],
   "source": [
    "array = [5,2,4,0,3]\n",
    "print('unsorted', array)\n",
    "mergeSort(array)\n",
    "print('sorted', array)"
   ]
  },
  {
   "cell_type": "markdown",
   "metadata": {},
   "source": [
    "The next thing to notice is that the work done on each of those 2 n/2 sized jobs is done at O(n) speed"
   ]
  },
  {
   "cell_type": "code",
   "execution_count": 8,
   "metadata": {},
   "outputs": [
    {
     "name": "stdout",
     "output_type": "stream",
     "text": [
      "[0, 2, 3, 4, 5]\n"
     ]
    }
   ],
   "source": [
    "# Work at each node of the recursion \n",
    "\n",
    "arr = [5,2,4,0,3]\n",
    "\n",
    "# Reccurece done here so L and R are sorted\n",
    "L = [2,5]\n",
    "R = [0,3,4]\n",
    "\n",
    "i = j = k = 0\n",
    "\n",
    "# Since L and R are already sorted, we can move from left to right comparing \n",
    "# the leftmost integer on L with the leftmost on R and add the lesser one \n",
    "# to the next index of our array sized len(L) + len(R) being modified in place\n",
    "\n",
    "while i < len(L) and j < len(R): \n",
    "    if L[i] < R[j]: \n",
    "        arr[k] = L[i] \n",
    "        i+=1\n",
    "    else: \n",
    "        arr[k] = R[j] \n",
    "        j+=1\n",
    "    k+=1\n",
    "\n",
    "# since L and R might be added to the running array at different rates\n",
    "# suppose L = [1 2 3], R = [5 6 7], L will finish before R, and visa versa\n",
    "# we simply add the remaining integers in the same order they are in R or L\n",
    "# since they are each sorted with respect to themselves\n",
    "\n",
    "while i < len(L): \n",
    "    arr[k] = L[i] \n",
    "    i+=1\n",
    "    k+=1\n",
    "\n",
    "while j < len(R): \n",
    "    arr[k] = R[j] \n",
    "    j+=1\n",
    "    k+=1\n",
    "    \n",
    "print(arr)"
   ]
  },
  {
   "cell_type": "markdown",
   "metadata": {},
   "source": [
    "return the index of an element if it exists in a list, else return -1, in O(log(n)) time"
   ]
  },
  {
   "cell_type": "code",
   "execution_count": 19,
   "metadata": {},
   "outputs": [
    {
     "data": {
      "text/plain": [
       "16"
      ]
     },
     "execution_count": 19,
     "metadata": {},
     "output_type": "execute_result"
    }
   ],
   "source": [
    "'''\n",
    "If your solution divides the work by half at each step: \n",
    "ie. if n = 16 and the work reduces like 16, 8, 4, 2, 1\n",
    "len([16, 8, 4, 2]) = 4 and log_2(16) = 4 since 2^4\n",
    "'''\n",
    "2**4"
   ]
  },
  {
   "cell_type": "code",
   "execution_count": null,
   "metadata": {},
   "outputs": [],
   "source": [
    "class Solution:\n",
    "    def search(self, nums: List[int], target: int) -> int:\n",
    "        if target in nums:\n",
    "            return nums.index(target)\n",
    "        else:\n",
    "            return -1"
   ]
  },
  {
   "cell_type": "code",
   "execution_count": 21,
   "metadata": {},
   "outputs": [
    {
     "data": {
      "text/plain": [
       "4"
      ]
     },
     "execution_count": 21,
     "metadata": {},
     "output_type": "execute_result"
    }
   ],
   "source": [
    "from typing import List\n",
    "\n",
    "def search(nums: List[int], target: int) -> int:\n",
    "    \n",
    "    low = 0 # lowest possible index target could be inclusively\n",
    "    high = len(nums) - 1 # highest possible index target could be inclusively\n",
    "\n",
    "    while low <= high:\n",
    "        mid = (high + low)//2 # midpoint rounded down, or if high == low, mid == high == low\n",
    "        if nums[mid] == target:\n",
    "            return mid\n",
    "        elif target > nums[mid]:\n",
    "            low = mid + 1\n",
    "        elif target < nums[mid]:\n",
    "            high = mid - 1\n",
    "\n",
    "    return -1\n",
    "\n",
    "search([-1,0,3,5,9,12], 9)"
   ]
  },
  {
   "cell_type": "markdown",
   "metadata": {},
   "source": [
    "## Master Method \n",
    "\n",
    "The Master method is of form T(n) = a*T(n/b) + O(n^d)\n",
    "\n",
    "Since each level splits n into 2 recursive calls, a = 2\n",
    "\n",
    "Since the portion that goes to each recursive call is n/2, b = 2\n",
    "\n",
    "Since the work done at each node is O(n^1), d = 1\n",
    "\n",
    "The depth of the recursion is log_b(n), for example n = 8 would have log_2(8) or 3 layers after the root, root = 1x8, layer 1 = 2x4, 4x2, layer 3 = 8x1 \n",
    "\n",
    "Since \n",
    "\n",
    "$$Total Work = n^{d} \\sum_{l=0}^{log_b(n)}(\\frac{a}{b^d})^{d}$$\n",
    "\n",
    "and since (a/b^d) = 2/2^1 = 1, n^d amount of work is done at each layer, of which there are log_b(n), n^d log_b(n) work is done\n",
    "\n",
    "for cases in which a = b^d, here 2 = 2^1, the time complexity is n^d log_2(n) , d = 1 so time complexity is O(nlogn)\n",
    "\n",
    "## Index of Fibonacci number"
   ]
  },
  {
   "cell_type": "code",
   "execution_count": 26,
   "metadata": {},
   "outputs": [
    {
     "name": "stdout",
     "output_type": "stream",
     "text": [
      "4\n",
      "-1\n"
     ]
    }
   ],
   "source": [
    "\n",
    "# This function takes a number, if the number is a fibonacci number, then it gives you the\n",
    "# index of that number in the fibonacci sequence, otherwise if its not a fibonacci number,\n",
    "# it returns -1\n",
    "\n",
    "# fibonacci is f(n) = f(n-1) + f(n-2) where f(0) = f(1) = 1 \n",
    "# fibonacci sequence: 1, 1, 2, 3, 5, 8, 13\n",
    "# fibonacci indices:  0, 1, 2, 3, 4, 5, 6\n",
    "\n",
    "def fib2idx(fib):\n",
    "    smaller = 1\n",
    "    larger = 2\n",
    "    idx = 2 \n",
    "    fib_ = 2\n",
    "    if fib == 1: # 1 is the only fibonacci number that occurs twice, so we decult to idx = 1 for it\n",
    "        return 1\n",
    "    if fib == 2:\n",
    "        return 2\n",
    "    while fib_ != fib:\n",
    "        fib_ = smaller + larger # calculate the next fibonacci number\n",
    "        smaller = larger # reassign trail1 first, otherwise trail1 and trail2 will equal fib\n",
    "        larger = fib_\n",
    "        idx += 1\n",
    "        if fib_ > fib: # if we pass the input while trying to reach it, it means input is not a fibonacci number\n",
    "            return -1\n",
    "    return idx\n",
    "        \n",
    "print(fib2idx(5))\n",
    "print(fib2idx(7))"
   ]
  },
  {
   "cell_type": "markdown",
   "metadata": {},
   "source": [
    "This fibonacci index finder function runs in O(log(n)) time where n = fib\n",
    "\n",
    "i = index of the fibonacci number\n",
    "fi = the ith fibonacci number\n",
    "\n",
    "consider the relation fi >= r^(i-2), where \n",
    "\n",
    "consider r = (1 + sqrt(5))/2 \n",
    "\n",
    "https://www.cs.cornell.edu/courses/cs280/2005fa/induction.pdf\n",
    "\n",
    "### Nested Brackets"
   ]
  },
  {
   "cell_type": "code",
   "execution_count": 60,
   "metadata": {},
   "outputs": [
    {
     "name": "stdout",
     "output_type": "stream",
     "text": [
      "True\n",
      "True\n",
      "False\n",
      "False\n"
     ]
    }
   ],
   "source": [
    "def isValid(s: str) -> bool:\n",
    "    \"\"\"\n",
    "    this algorithm uses the 'stack' data structure to verify\n",
    "    that all open bracket types are properly closed eventually\n",
    "    just like in code\n",
    "    \"\"\"\n",
    "    stack = []\n",
    "    for u in s:\n",
    "        if u in '({[':\n",
    "            stack.append(u)\n",
    "        elif u == ')':\n",
    "            if not stack or stack.pop() != '(':\n",
    "                return False\n",
    "        elif u == '}':\n",
    "            if not stack or stack.pop() != '{':\n",
    "                return False\n",
    "        elif u == ']':\n",
    "            if not stack or stack.pop() != '[':\n",
    "                return False\n",
    "            \n",
    "    return len(stack) == 0\n",
    "            \n",
    "print(isValid('()[]'))\n",
    "print(isValid('([]{})'))\n",
    "print(isValid('([)])'))\n",
    "print(isValid('}())'))"
   ]
  },
  {
   "cell_type": "markdown",
   "metadata": {},
   "source": [
    "## Python variables objects and memory\n",
    "\n",
    "Every Python variable is a reference to an object.\n",
    "\n",
    "Everything variable type is an object in Python.\n",
    "\n",
    "Every object has a unique address to a memory location like `0x5f3`\n",
    "\n",
    "https://www.nickmccullum.com/python-pointers/#why-dont-pointers-exist-in-python\n"
   ]
  },
  {
   "cell_type": "code",
   "execution_count": 14,
   "metadata": {},
   "outputs": [
    {
     "name": "stdout",
     "output_type": "stream",
     "text": [
      "True\n",
      "True\n",
      "True\n",
      "True\n",
      "True\n"
     ]
    }
   ],
   "source": [
    "print(isinstance(int, object))\n",
    "print(isinstance(str, object))\n",
    "print(isinstance(list, object))\n",
    "print(isinstance(bool, object))\n",
    "print(isinstance(type, object))"
   ]
  },
  {
   "cell_type": "markdown",
   "metadata": {},
   "source": [
    "#### A Python object comprises of three parts:\n",
    "\n",
    "1. Reference count - the number of variables that refer to a particular memory location\n",
    "2. Type - the object type. Examples of Python types include int, float, string, and boolean.\n",
    "3. Value - the actual value of the object that is stored in the memory.\n",
    "\n",
    "### Memory Addresses\n",
    "\n",
    "the id() method returns a unique integer number ID for every unique value it is used with.\n",
    "below, ID is an assigned memory address, it can be different in different systems."
   ]
  },
  {
   "cell_type": "code",
   "execution_count": 20,
   "metadata": {},
   "outputs": [
    {
     "name": "stdout",
     "output_type": "stream",
     "text": [
      "id of 5 = 4380361072\n",
      "id of a = 4380361072\n",
      "id of b = 4380361072\n",
      "id of c = 4424050832\n",
      "b is a: True\n"
     ]
    }
   ],
   "source": [
    "# id of 5\n",
    "print(\"id of 5 =\", id(5))\n",
    "a = 5\n",
    "# id of a\n",
    "print(\"id of a =\", id(a))\n",
    "b = a\n",
    "# id of b\n",
    "print(\"id of b =\", id(b))\n",
    "c = 5.0\n",
    "# id of c\n",
    "print(\"id of c =\", id(c))\n",
    "'''\n",
    "Use the is() to verify if two objects share the same memory address. Let's look at an example.\n",
    "'''\n",
    "print('b is a:', b is a) # if True, it indicates that x and y share the same memory address."
   ]
  },
  {
   "cell_type": "markdown",
   "metadata": {},
   "source": [
    "#### Objects in Python are of two types – Immutable and Mutable.\n",
    "\n",
    "It is important to understand the difference between immutable and mutable objects to implement pointer behavior in Python. Immutable objects cannot be changed post creation, so the ID address for the value 34 stays the same, instead the ID for x will change should the value assigned to the variable x change\n",
    "\n",
    "memory locations sound like `0x5f3`\n",
    "\n",
    "##### example of immutable object int"
   ]
  },
  {
   "cell_type": "code",
   "execution_count": 24,
   "metadata": {},
   "outputs": [
    {
     "name": "stdout",
     "output_type": "stream",
     "text": [
      "4380362000\n",
      "4380362000\n",
      "4380362032\n",
      "4380362000\n"
     ]
    }
   ],
   "source": [
    "x = 34\n",
    "print(id(x))\n",
    "print(id(34))\n",
    "x += 1\n",
    "print(id(x))\n",
    "print(id(34))"
   ]
  },
  {
   "cell_type": "markdown",
   "metadata": {},
   "source": [
    "##### example of mutable object list\n",
    "\n",
    "Mutable objects can be edited even after creation. Unlike in immutable objects, no new object is created when a mutable object is modified. Let's use the list object that is a mutable object.\n",
    "\n"
   ]
  },
  {
   "cell_type": "code",
   "execution_count": 25,
   "metadata": {},
   "outputs": [
    {
     "name": "stdout",
     "output_type": "stream",
     "text": [
      "---------Before Modification------------\n",
      "[1, 1, 2, 3, 5]\n",
      "4425627200\n",
      "\n",
      "-----------After Element Modification-------------\n",
      "[2, 1, 2, 3, 5]\n",
      "4425627200\n",
      "\n"
     ]
    }
   ],
   "source": [
    "numbs = [1, 1, 2, 3, 5]\n",
    "print(\"---------Before Modification------------\")\n",
    "print(numbs)\n",
    "print(id(numbs))\n",
    "print()\n",
    "\n",
    "## element modification\n",
    "numbs[0] += 1\n",
    "print(\"-----------After Element Modification-------------\")\n",
    "print(numbs)\n",
    "print(id(numbs))\n",
    "print()"
   ]
  },
  {
   "cell_type": "markdown",
   "metadata": {},
   "source": [
    "in the above examples, the correct terminology is to say that `x` is immutable because performing an operation on `x` creates a new object. Whereas `numbs` is mutable because performing an operation on `numbs` does not create a new object\n",
    "\n",
    "## mutable objects in python are like pointers in C++"
   ]
  },
  {
   "cell_type": "markdown",
   "metadata": {},
   "source": [
    "## Linked Lists\n",
    "\n",
    "As explained above, whereas the example below uses the word pointer, it is really pointer behavior implemented using python objects\n",
    "\n",
    "https://www.educative.io/answers/how-to-create-a-linked-list-in-python\n",
    "\n",
    "\n",
    "In a linked list, the head node has nobody pointing to it, the tail node points to null\n",
    "\n",
    "\n",
    "each node is of type: `<__main__.linkedListNode object at 0x1035051d0>`"
   ]
  },
  {
   "cell_type": "code",
   "execution_count": 13,
   "metadata": {},
   "outputs": [
    {
     "name": "stdout",
     "output_type": "stream",
     "text": [
      "<class 'type'>\n",
      "<class 'type'>\n",
      "<class '__main__.linkedListNode'>\n",
      "each of these node instances are just pointers to a place in memory, just like their .nextNode attribute\n",
      "the printed output of node1 is the same object type as node1.nextNode\n",
      "<__main__.linkedListNode object at 0x107d05cc0>\n",
      "<__main__.linkedListNode object at 0x107d076d0>\n",
      "\n",
      "since the nodes themselves are pointers, it is cleaner to identify by their unique values as you traverse\n",
      "1\n",
      "2\n",
      "3\n",
      "end/tail node has value 3\n"
     ]
    }
   ],
   "source": [
    "class linkedListNode:    \n",
    "    def __init__(self, value, nextNode=None):\n",
    "        self.value = int(value)        \n",
    "        self.nextNode = nextNode\n",
    "        \n",
    "node1 = linkedListNode(\"1\")\n",
    "node2 = linkedListNode(\"2\") \n",
    "node3 = linkedListNode(\"3\") \n",
    "\n",
    "print(type(int))\n",
    "print(type(linkedListNode))\n",
    "print(type(node1))\n",
    "\n",
    "# link the set the nodes into this directional list: “1”→”2\"→”3\"→Null \n",
    "node1.nextNode = node2 \n",
    "node2.nextNode = node3\n",
    "\n",
    "print('each of these node instances are just pointers to a place in memory, just like their .nextNode attribute')\n",
    "print('the printed output of node1 is the same object type as node1.nextNode')\n",
    "print(node1)\n",
    "print(node1.nextNode)\n",
    "\n",
    "def traverse(node):\n",
    "    print(node.value)\n",
    "    if node.nextNode is not None:\n",
    "        traverse(node.nextNode) \n",
    "    else:\n",
    "        print(\"end/tail node has value\", node.value)\n",
    "\n",
    "print('')\n",
    "print('since the nodes themselves are pointers, it is cleaner to identify by their unique values as you traverse')\n",
    "traverse(node1)"
   ]
  },
  {
   "cell_type": "code",
   "execution_count": 26,
   "metadata": {},
   "outputs": [
    {
     "name": "stdout",
     "output_type": "stream",
     "text": [
      "1\n",
      "2\n",
      "3\n",
      "4\n",
      "end/tail node has value 4\n"
     ]
    }
   ],
   "source": [
    "def insertNode(node, valuetoInsert):    \n",
    "    \"\"\"\n",
    "    This function takes a node and traverses it, ie follows,\n",
    "    each .nextNode reference/pointer to the next node object. \n",
    "    \n",
    "    only when it finds that the .nextNode reference/pointer\n",
    "    is None does it instantiate a new instance of linkedListNode\n",
    "    with the valuetoInsert and \n",
    "    switches the .nextNode  reference/pointer from None\n",
    "    to the new instance\n",
    "    \"\"\"\n",
    "    currentNode = node    \n",
    "    while currentNode is not None:        \n",
    "        if currentNode.nextNode is None: \n",
    "            insertedNode = linkedListNode(valuetoInsert)\n",
    "            currentNode.nextNode = insertedNode           \n",
    "            return insertedNode\n",
    "        currentNode = currentNode.nextNode\n",
    "        \n",
    "insertNode(node1, 4)\n",
    "\n",
    "traverse(node1)"
   ]
  },
  {
   "cell_type": "code",
   "execution_count": 27,
   "metadata": {},
   "outputs": [
    {
     "name": "stdout",
     "output_type": "stream",
     "text": [
      "1\n",
      "2\n",
      "3\n",
      "end/tail node has value 3\n"
     ]
    }
   ],
   "source": [
    "def deleteNode(head, valueToDelete):\n",
    "    \n",
    "    \"\"\"\n",
    "    This function traverses the linked list by \n",
    "    first assigning a reference to the previous node (previousNode) \n",
    "    to a temporary reference variable called currentNode.\n",
    "    then assigning currentNode.nextNode to currentNode. \n",
    "    This traversal by reassignment continues until currentNode is None.\n",
    "    \n",
    "    if we find that the currentNode attribute value matches the valueToDelete:\n",
    "    we create a skip connection reference to bypass and exclude currentNode\n",
    "    from the linked list by assigning previousNode.nextNode = currentNode.nextNode \n",
    "    the returning the head which currentNode started as but has since moved on from\n",
    "    \n",
    "    in the case that currentNode is still the head at the time we find the valueToDelete,\n",
    "    we detect this using if previousNode is None, we turn the next node into the head by \n",
    "    returning the next node currentNode.nextNode after \n",
    "    first assigning it to a temp variable newHead, then removing the original heads\n",
    "    connection to the list by currentNode.nextNode = None\n",
    "    \"\"\"\n",
    "    \n",
    "    currentNode = head    \n",
    "    previousNode = None    \n",
    "    while currentNode is not None:  \n",
    "        if currentNode.value == valueToDelete:     \n",
    "            if previousNode is None:                 \n",
    "                newHead = currentNode.nextNode                \n",
    "                currentNode.nextNode = None                \n",
    "                return newHead # Deleted the head            \n",
    "            previousNode.nextNode = currentNode.nextNode            \n",
    "            return head # skip current node \n",
    "        # else more forward\n",
    "        previousNode = currentNode        \n",
    "        currentNode = currentNode.nextNode    \n",
    "    return head # Value to delete was not found.\n",
    "    \n",
    "deleteNode(node1, 4)\n",
    "traverse(node1)"
   ]
  },
  {
   "cell_type": "code",
   "execution_count": 28,
   "metadata": {},
   "outputs": [
    {
     "name": "stdout",
     "output_type": "stream",
     "text": [
      "1\n",
      "end/tail node has value 1\n"
     ]
    }
   ],
   "source": [
    "deleteNode(node1, 1)\n",
    "traverse(node1)"
   ]
  },
  {
   "cell_type": "code",
   "execution_count": 29,
   "metadata": {},
   "outputs": [
    {
     "name": "stdout",
     "output_type": "stream",
     "text": [
      "2\n",
      "3\n",
      "end/tail node has value 3\n"
     ]
    }
   ],
   "source": [
    "traverse(node2)"
   ]
  },
  {
   "cell_type": "code",
   "execution_count": 34,
   "metadata": {},
   "outputs": [
    {
     "name": "stdout",
     "output_type": "stream",
     "text": [
      "1\n",
      "2\n",
      "3\n",
      "end/tail node has value 3\n"
     ]
    },
    {
     "data": {
      "text/plain": [
       "'\\nif you run traverse(node1) withi this looped linked list , you will get a long repeating output ending with a\\nRecursionError: maximum recursion depth exceeded while calling a Python object\\n'"
      ]
     },
     "execution_count": 34,
     "metadata": {},
     "output_type": "execute_result"
    }
   ],
   "source": [
    "node1 = linkedListNode(\"1\") \n",
    "node2 = linkedListNode(\"2\")\n",
    "node3 = linkedListNode(\"3\") \n",
    "\n",
    "node1.nextNode = node2 \n",
    "node2.nextNode = node3\n",
    "\n",
    "traverse(node1)\n",
    "\n",
    "node4 = insertNode(node1, 4)\n",
    "node4.nextNode = node2\n",
    "\n",
    "'''\n",
    "if you run traverse(node1) withi this looped linked list , you will get a long repeating output ending with a\n",
    "RecursionError: maximum recursion depth exceeded while calling a Python object\n",
    "'''\n",
    "# traverse(node1) # RecursionError: maximum recursion depth exceeded while calling a Python object"
   ]
  },
  {
   "cell_type": "code",
   "execution_count": 94,
   "metadata": {},
   "outputs": [
    {
     "name": "stdout",
     "output_type": "stream",
     "text": [
      "loop\n"
     ]
    },
    {
     "data": {
      "text/plain": [
       "['1->', '2->', '3->', '4->', '2->']"
      ]
     },
     "execution_count": 94,
     "metadata": {},
     "output_type": "execute_result"
    }
   ],
   "source": [
    "'''\n",
    "This solution has a time and space complexity of O(n) \n",
    "becasue it has to both traverse and store the number of nodes\n",
    "that are in the linked list\n",
    "'''\n",
    "\n",
    "from typing import Optional, List\n",
    "\n",
    "# Definition for singly-linked list.\n",
    "class ListNode:\n",
    "    def __init__(self, x):\n",
    "        self.val = x\n",
    "        self.next = None\n",
    "\n",
    "class Solution:\n",
    "    def hasCycle(self, head: Optional[ListNode]) -> bool:\n",
    "        hashmap = set()\n",
    "        while head:\n",
    "            if head in hashmap:\n",
    "                return True\n",
    "            hashmap.add(head)\n",
    "            head = head.next\n",
    "        return False\n",
    "\n",
    "# a version that prints out the loop values for you\n",
    "def detectLoop(node):\n",
    "    nodelist = []\n",
    "    hashmap = set()\n",
    "    while node:\n",
    "        nodelist.append(str(node.value) + \"->\")\n",
    "        if node in hashmap:\n",
    "            print(\"loop\")\n",
    "            return nodelist\n",
    "        hashmap.add(node)\n",
    "        node = node.nextNode\n",
    "    nodelist.append(str(node.value + \"-> end\"))\n",
    "    print(\"no loop\")\n",
    "    return nodelist \n",
    "\n",
    "detectLoop(node1)"
   ]
  },
  {
   "cell_type": "code",
   "execution_count": 37,
   "metadata": {},
   "outputs": [],
   "source": [
    "'''\n",
    "Floyd’s Cycle Finding Algorithm\n",
    "\n",
    "https://www.geeksforgeeks.org/floyds-cycle-finding-algorithm/\n",
    "\n",
    "This algorithm is O(n) in time but O(1) in space\n",
    "\n",
    "The slow pointer moves one step at a time, and the fast pointer moves two steps at a time. \n",
    "If the linked list has a cycle, the fast pointer will eventually catch up with the \n",
    "slow pointer, and they will both point to the same node.\n",
    "'''\n",
    "\n",
    "class Solution:\n",
    "    def hasCycle(self, head: Optional[ListNode]) -> bool:\n",
    "        \n",
    "        # empty lists or list with a single node \n",
    "        # are considered not to be looped \n",
    "        \n",
    "        if not head or not head.next:\n",
    "            return False\n",
    "        \n",
    "        # give the fast a head start so you dont meet the\n",
    "        # slow==fast or slow is fast criteria on the first\n",
    "        # evaluation before the fast has moved ahead yet\n",
    "        \n",
    "        slow=head\n",
    "        fast=head.next\n",
    "        \n",
    "        while(fast and fast.next):\n",
    "            if slow is fast:\n",
    "                return True\n",
    "            slow=slow.next\n",
    "            fast=fast.next.next\n",
    "            \n",
    "        return False\n"
   ]
  },
  {
   "cell_type": "markdown",
   "metadata": {},
   "source": [
    "#### Implement a queue from 2 stacks\n",
    "\n",
    "the key insights here are\n",
    "\n",
    "1. When you pop every element in stack_A and push each to another stack_B as they come out of stack_A, those elements will be sitting in stack_B in reversed order. \n",
    "\n",
    "2. Because of 1, popping elements from stack_B occur in the order they were pushed to stack_A\n",
    "\n",
    "3. As long as you empty stack_B before transferring stack_A to stack_B, 2 will continue to be true even as you push to stack_A and pop from stack_B in whatever order\n",
    "\n",
    "4. You have to account for the situation where stack_B is empty by doing the A to B transfer whenever B is empty. You can also wait until a pop or peek happens and do this if you see that stack_B is empty. "
   ]
  },
  {
   "cell_type": "code",
   "execution_count": null,
   "metadata": {},
   "outputs": [],
   "source": [
    "class MyQueue:\n",
    "\n",
    "    def __init__(self):\n",
    "        self.stack1 = []\n",
    "        self.stack2 = []\n",
    "\n",
    "    def push(self, x: int) -> None:\n",
    "        self.stack1.append(x)\n",
    "\n",
    "    def pop(self) -> int:\n",
    "        self.peek()\n",
    "        return self.stack2.pop()\n",
    "        \n",
    "    def peek(self) -> int:\n",
    "        if not self.stack2:\n",
    "            while self.stack1:\n",
    "                self.stack2.append(self.stack1.pop())\n",
    "        return self.stack2[-1]\n",
    "        \n",
    "    def empty(self) -> bool:\n",
    "        return not self.stack1 and not self.stack2"
   ]
  },
  {
   "cell_type": "code",
   "execution_count": null,
   "metadata": {},
   "outputs": [],
   "source": [
    "'''\n",
    "if n = 5 that means you have a list [1,2,3,4,5]\n",
    "if 3 is bad, then 3,4,5 is bad\n",
    "find 3 in O(log(n)) time using isBadVersion\n",
    "'''\n",
    "\n",
    "# The isBadVersion API is already defined for you.\n",
    "# def isBadVersion(version: int) -> bool:\n",
    "\n",
    "class Solution:\n",
    "\n",
    "    def firstBadVersion(self, n: int) -> int:\n",
    "        \n",
    "        # this solution uses binary search\n",
    "\n",
    "        l, r = 0, n \n",
    "        # l is leftmost possible last good\n",
    "        # r is rightmost possible first bad\n",
    "\n",
    "        while l < r:\n",
    "            # if l and r are adjacent and good/bad respectively, \n",
    "            # then r is the first bad\n",
    "            if (r == l+1) & (not isBadVersion(l) and isBadVersion(r)):\n",
    "                return r\n",
    "            else:\n",
    "                # otherwise test the one in the center\n",
    "                mid = (l+r)//2\n",
    "                if isBadVersion(mid):\n",
    "                    # if the center is bad, relocate r, since\n",
    "                    # the first bad must be mid or to the left of mid\n",
    "                    r = mid\n",
    "                else:\n",
    "                    # if the center is good, relocate l, since\n",
    "                    # the left good is mid or to the right of mid\n",
    "                    l = mid"
   ]
  },
  {
   "cell_type": "markdown",
   "metadata": {},
   "source": [
    "## Trees \n",
    "\n",
    "Inverting a binary tree can be thought of as taking the mirror-image of the input tree\n",
    "\n",
    "<img src=\"https://www.techiedelight.com/wp-content/uploads/invert-binary-tree.png\" width=300 height=300>\n"
   ]
  },
  {
   "cell_type": "code",
   "execution_count": 102,
   "metadata": {},
   "outputs": [],
   "source": [
    "# A Tree node contains the value, left and right pointers\n",
    "class newNode: \n",
    "    def __init__(self,data): \n",
    "        self.data = data \n",
    "        self.left = self.right = None\n",
    "        \n",
    "# print InOrder binary tree traversal.\n",
    "def print_tree(node) : \n",
    "    # InOrder is left, root, right, preorder is root, left, right \n",
    "    if (node == None):  \n",
    "        return\n",
    "    print_tree(node.left)  \n",
    "    print(node.data)\n",
    "    print_tree(node.right) "
   ]
  },
  {
   "cell_type": "code",
   "execution_count": 108,
   "metadata": {},
   "outputs": [
    {
     "name": "stdout",
     "output_type": "stream",
     "text": [
      "Inorder traversal of the constructed tree is\n",
      "1\n",
      "2\n",
      "3\n",
      "4\n",
      "5\n"
     ]
    }
   ],
   "source": [
    "root = newNode(2)  \n",
    "root.left = newNode(1)  \n",
    "root.right = newNode(4)  \n",
    "root.right.left = newNode(3)  \n",
    "root.right.right = newNode(5)  \n",
    "\n",
    "# Print inorder traversal of the input tree \n",
    "print(\"Inorder traversal of the constructed tree is\")  \n",
    "print_tree(root)  "
   ]
  },
  {
   "cell_type": "code",
   "execution_count": 109,
   "metadata": {},
   "outputs": [],
   "source": [
    "def invert(node):\n",
    "    if node is None: # Base Case , if youve past a leaf node, do nothing\n",
    "        return\n",
    "    else:\n",
    "        invert(node.left) # recursive calls\n",
    "        invert(node.right)\n",
    "        temp = node.left # from nodes with one or more leaves to root \n",
    "        node.left = node.right # swap the branches of the node \n",
    "        node.right = temp"
   ]
  },
  {
   "cell_type": "code",
   "execution_count": 110,
   "metadata": {},
   "outputs": [
    {
     "name": "stdout",
     "output_type": "stream",
     "text": [
      "\n",
      "Inorder traversal of the mirror treeis \n",
      "5\n",
      "4\n",
      "3\n",
      "2\n",
      "1\n"
     ]
    }
   ],
   "source": [
    "# Convert tree to its mirror\n",
    "invert(root)  \n",
    "  \n",
    "# Print inorder traversal of the mirror tree\n",
    "print(\"\\nInorder traversal of the mirror treeis \")  \n",
    "print_tree(root)  "
   ]
  },
  {
   "cell_type": "markdown",
   "metadata": {},
   "source": [
    "## Balanced Trees\n",
    "\n",
    "Balanced Binary Trees are trees in which the height is kept to a minimum and all nodes-values in the left subtree of a node_i are less than the value of node_i, likewise all the nodes in the right subtree are greater. This balance keeps operations such as seach, insertion and deletion to a computational time complexity of O(log_2(n)) rather than n. Which is a huge difference (log_2(10^6) ~= 19). "
   ]
  },
  {
   "cell_type": "code",
   "execution_count": 1,
   "metadata": {},
   "outputs": [],
   "source": [
    "# Definition for a binary tree node.\n",
    "# https://www.geeksforgeeks.org/level-order-tree-traversal/\n",
    "  \n",
    "from typing import Optional, List\n",
    "    \n",
    "class TreeNode:\n",
    "    def __init__(self, val=0, left=None, right=None):\n",
    "        self.val = val\n",
    "        self.left = left\n",
    "        self.right = right\n",
    "        \n",
    "    def insert(self, val):\n",
    "        \n",
    "        if self.val:\n",
    "            if val <= self.val:\n",
    "                if self.left is None:\n",
    "                    self.left = TreeNode(val)\n",
    "                else:\n",
    "                    self.left.insert(val)\n",
    "            else:\n",
    "                if self.right is None:\n",
    "                    self.right = TreeNode(val)\n",
    "                else:\n",
    "                    self.right.insert(val)\n",
    "        else:\n",
    "            self.val = val\n",
    "            "
   ]
  },
  {
   "cell_type": "code",
   "execution_count": 2,
   "metadata": {},
   "outputs": [],
   "source": [
    "def height(node):\n",
    "    if node is None:\n",
    "        return 0\n",
    "    else:\n",
    "        # Compute the height of each subtree\n",
    "        lheight = height(node.left)\n",
    "        rheight = height(node.right)\n",
    "\n",
    "        # Use the larger one\n",
    "        if lheight > rheight:\n",
    "            return lheight+1\n",
    "        else:\n",
    "            return rheight+1\n",
    "\n",
    "# Function to  print level order traversal of tree\n",
    "def printLevelOrder(root):\n",
    "    h = height(root)\n",
    "    for i in range(1, h+1):\n",
    "        printCurrentLevel(root, i)\n",
    "\n",
    "\n",
    "# Print nodes at a current level\n",
    "def printCurrentLevel(root, level):\n",
    "    if root is None:\n",
    "        return\n",
    "    if level == 1:\n",
    "        print(root.val, end=\" \")\n",
    "    elif level > 1:\n",
    "        printCurrentLevel(root.left, level-1)\n",
    "        printCurrentLevel(root.right, level-1)\n",
    "        \n",
    "def invertTree(root: Optional[TreeNode]) -> Optional[TreeNode]:\n",
    "\n",
    "    if root is None:\n",
    "        return None\n",
    "    #print(root.val)\n",
    "    left = invertTree(root.left)\n",
    "    right = invertTree(root.right)\n",
    "    root.left = right\n",
    "    root.right = left\n",
    "    return root\n",
    "\n",
    "def invertTree_wrong(root: Optional[TreeNode]) -> Optional[TreeNode]:\n",
    "    \n",
    "    if root is None:\n",
    "        return None\n",
    "    #print(root.val)\n",
    "    left = invertTree(root.left)\n",
    "    right = invertTree(root.right)\n",
    "    root.left = right\n",
    "    root.right = left\n",
    "    \n",
    "    return root\n",
    "\n",
    "def from_level_order_list(level_order: List) -> TreeNode:\n",
    "    values = iter(level_order)\n",
    "    root = TreeNode(next(values))\n",
    "    nodes_to_fill = [root]\n",
    "    try:\n",
    "        while True:\n",
    "            next_node = nodes_to_fill.pop(0)\n",
    "            new_left = next(values)\n",
    "            if new_left is not None:\n",
    "                next_node.left = TreeNode(new_left)\n",
    "                nodes_to_fill.append(next_node.left)\n",
    "            new_right = next(values)\n",
    "            if new_right is not None:\n",
    "                next_node.right = TreeNode(new_right)\n",
    "                nodes_to_fill.append(next_node.right)\n",
    "                \n",
    "    except StopIteration:\n",
    "        return root"
   ]
  },
  {
   "cell_type": "markdown",
   "metadata": {},
   "source": [
    "<img src=\"https://assets.leetcode.com/uploads/2021/03/14/invert1-tree.jpg\">"
   ]
  },
  {
   "cell_type": "code",
   "execution_count": 6,
   "metadata": {},
   "outputs": [
    {
     "name": "stdout",
     "output_type": "stream",
     "text": [
      "4 2 7 1 3 6 9 \n",
      " -- \n",
      " -- \n",
      "4 7 2 9 6 3 1 "
     ]
    }
   ],
   "source": [
    "# here is inversion of the tree above is represented in level order by the array below\n",
    "a = [4,2,7,1,3,6,9]\n",
    "\n",
    "for i, val in enumerate(a):\n",
    "    if i == 0:\n",
    "        root = TreeNode(val)\n",
    "    else:\n",
    "        root.insert(val)\n",
    "        \n",
    "printLevelOrder(root)\n",
    "print('\\n -- ')\n",
    "root = invertTree(root)\n",
    "print(' -- ')\n",
    "printLevelOrder(root)"
   ]
  },
  {
   "cell_type": "code",
   "execution_count": 52,
   "metadata": {},
   "outputs": [],
   "source": [
    "def lowestCommonAncestor(root: 'TreeNode', p: 'TreeNode', q: 'TreeNode') -> 'TreeNode':\n",
    "\n",
    "    if (p.val < root.val) & (q.val < root.val):\n",
    "        return lowestCommonAncestor(root.left, p, q)\n",
    "    elif (p.val > root.val) & (q.val > root.val):\n",
    "        return lowestCommonAncestor(root.right, p, q)\n",
    "    else:\n",
    "        return root \n",
    "    \n",
    "        # if root is between q and p, root is the LCA\n",
    "        # root is also the LCA if p == root or q == root, which would happen if you\n",
    "        # descend into q or p in the recursion"
   ]
  },
  {
   "cell_type": "markdown",
   "metadata": {},
   "source": [
    "<img src=\"https://assets.leetcode.com/uploads/2018/12/14/binarysearchtree_improved.png\">"
   ]
  },
  {
   "cell_type": "code",
   "execution_count": 91,
   "metadata": {},
   "outputs": [
    {
     "name": "stdout",
     "output_type": "stream",
     "text": [
      "6 2 8 0 4 7 9 3 5 \n",
      "------\n",
      "6\n"
     ]
    }
   ],
   "source": [
    "# create a binary search tree from a level ordered list, then find the lowest common ancestor\n",
    "root = from_level_order_list([6,2,8,0,4,7,9,None,None,3,5])\n",
    "\n",
    "printLevelOrder(root)\n",
    "\n",
    "lca = lowestCommonAncestor(root, root.left, root.right)\n",
    "\n",
    "print('\\n------')\n",
    "print(lca.val)"
   ]
  },
  {
   "cell_type": "code",
   "execution_count": 92,
   "metadata": {},
   "outputs": [
    {
     "data": {
      "text/plain": [
       "4"
      ]
     },
     "execution_count": 92,
     "metadata": {},
     "output_type": "execute_result"
    }
   ],
   "source": [
    "height(root)"
   ]
  },
  {
   "cell_type": "code",
   "execution_count": 82,
   "metadata": {},
   "outputs": [],
   "source": [
    "# algorithm that uses depth first search to find the node with a particular value\n",
    "\n",
    "def dfs_val(root: Optional[TreeNode], val: int) -> Optional[TreeNode]:\n",
    "    \n",
    "    \"\"\" depth first search (dfs) can be done by using the 'stack' data structure\n",
    "    to keep track of nodes as they are discovered but not yet explored. \n",
    "    \n",
    "    Because stacks are very first in last out (FILO), dfs will explore the most recently discovered\n",
    "    node before the nodes not yet explored, resulting in more nodes being added in the stack\n",
    "    that are both deeper and positioned to be explored before the nodes till waiting to be explored\n",
    "    \n",
    "    a python list can be used as a stack if you append to the right side and pop from the right side\n",
    "    \"\"\"\n",
    "    \n",
    "    stack = [root]\n",
    "    \n",
    "    while len(stack) > 0:\n",
    "        \n",
    "        current_node = stack.pop()\n",
    "        \n",
    "        print(current_node.val, len(stack))\n",
    "        \n",
    "        if current_node.val == val:\n",
    "            return current_node\n",
    "        \n",
    "        if current_node.left is not None:\n",
    "            stack.append(current_node.left)\n",
    "\n",
    "        if current_node.right is not None:\n",
    "            stack.append(current_node.right)\n",
    "            \n",
    "    return None\n",
    "\n",
    "            \n",
    "def bfs_val(root: Optional[TreeNode], val: int) -> Optional[TreeNode]:\n",
    "    \n",
    "    \"\"\" \n",
    "    breadth first search (bfs) can be done by using the 'queue' data structure\n",
    "    to keep track of nodes as they are discovered but not yet explored. \n",
    "    \n",
    "    Because queue's are very first in first out (FIFO), the nodes will be explroed in the\n",
    "    order they were discovered. Since nodes are discovered in the order of their level from\n",
    "    the root, breadth first search will move from the root, and move level by level, deeper\n",
    "    towards the leaves. \n",
    "    \n",
    "    a python list can be used as a queue if you queue.insert(0,new_node) to the left side\n",
    "    and queue.pop() from the right side, so that the line moves form left to right.\n",
    "    \n",
    "    in ----> out\n",
    "    \n",
    "    \"\"\"\n",
    "    \n",
    "    queue = [root]\n",
    "    \n",
    "    while len(queue) > 0:\n",
    "        \n",
    "        current_node = queue.pop()\n",
    "        \n",
    "        print(current_node.val, len(queue))\n",
    "        \n",
    "        if current_node.val == val:\n",
    "            return current_node\n",
    "        \n",
    "        if current_node.left is not None:\n",
    "            queue.insert(0,current_node.left)\n",
    "\n",
    "        if current_node.right is not None:\n",
    "            queue.insert(0,current_node.right)\n",
    "            \n",
    "    return None\n",
    "            "
   ]
  },
  {
   "cell_type": "code",
   "execution_count": 85,
   "metadata": {},
   "outputs": [
    {
     "name": "stdout",
     "output_type": "stream",
     "text": [
      "DFS: notice that the algorithm tranverses along the rightmost path 6->8 to touch the deepest node 9 first\n",
      "\n",
      "------\n",
      "6 0\n",
      "8 1\n",
      "9 2\n",
      "7 1\n",
      "2 0\n",
      "4 1\n",
      "5 2\n",
      "3 1\n",
      "\n",
      "------\n",
      "6 0\n",
      "8 1\n",
      "9 2\n",
      "7 1\n",
      "2 0\n",
      "4 1\n",
      "5 2\n",
      "\n",
      "------\n",
      "\n",
      "------\n",
      "4\n"
     ]
    }
   ],
   "source": [
    "root = from_level_order_list([6,2,8,0,4,7,9,None,None,3,5])\n",
    "print('DFS: notice that the algorithm tranverses along the rightmost path 6->8 to touch the deepest node 9 first')\n",
    "print('\\n------')\n",
    "rootA = dfs_val(root,3)\n",
    "print('\\n------')\n",
    "rootB = dfs_val(root,5)\n",
    "print('\\n------')\n",
    "lca = lowestCommonAncestor(root, rootA, rootB)\n",
    "print('\\n------')\n",
    "print(lca.val) # i expect this to return 4"
   ]
  },
  {
   "cell_type": "code",
   "execution_count": 88,
   "metadata": {},
   "outputs": [
    {
     "name": "stdout",
     "output_type": "stream",
     "text": [
      "6 0\n",
      "8 1\n",
      "9 2\n",
      "7 1\n",
      "2 0\n",
      "4 1\n",
      "5 2\n",
      "3 1\n",
      "0 0\n",
      "None\n"
     ]
    }
   ],
   "source": [
    "# this is what happens when you look for a value that doesnt exist in the tree\n",
    "print(dfs_val(root,11))"
   ]
  },
  {
   "cell_type": "code",
   "execution_count": 89,
   "metadata": {},
   "outputs": [
    {
     "name": "stdout",
     "output_type": "stream",
     "text": [
      "BFS: notice that the algorithm tranverses in the same order as the level order list used to create the tree\n",
      "\n",
      "------\n",
      "6 0\n",
      "2 1\n",
      "8 2\n",
      "0 3\n",
      "4 2\n",
      "7 3\n",
      "9 2\n",
      "3 1\n",
      "\n",
      "------\n",
      "6 0\n",
      "2 1\n",
      "8 2\n",
      "0 3\n",
      "4 2\n",
      "7 3\n",
      "9 2\n",
      "3 1\n",
      "5 0\n",
      "\n",
      "------\n",
      "\n",
      "------\n",
      "4\n"
     ]
    }
   ],
   "source": [
    "root = from_level_order_list([6,2,8,0,4,7,9,None,None,3,5])\n",
    "print('BFS: notice that the algorithm tranverses in the same order as the level order list used to create the tree')\n",
    "print('\\n------')\n",
    "rootA = bfs_val(root,3)\n",
    "print('\\n------')\n",
    "rootB = bfs_val(root,5)\n",
    "print('\\n------')\n",
    "lca = lowestCommonAncestor(root, rootA, rootB)\n",
    "print('\\n------')\n",
    "print(lca.val) # i expect this to return 4"
   ]
  },
  {
   "cell_type": "code",
   "execution_count": 90,
   "metadata": {},
   "outputs": [
    {
     "name": "stdout",
     "output_type": "stream",
     "text": [
      "6 0\n",
      "2 1\n",
      "8 2\n",
      "0 3\n",
      "4 2\n",
      "7 3\n",
      "9 2\n",
      "3 1\n",
      "5 0\n",
      "None\n"
     ]
    }
   ],
   "source": [
    "# this is what happens when you look for a value that doesnt exist in the tree\n",
    "print(bfs_val(root,11))"
   ]
  },
  {
   "cell_type": "code",
   "execution_count": 95,
   "metadata": {},
   "outputs": [
    {
     "name": "stdout",
     "output_type": "stream",
     "text": [
      "1\n",
      "2\n",
      "2\n"
     ]
    },
    {
     "data": {
      "text/plain": [
       "False"
      ]
     },
     "execution_count": 95,
     "metadata": {},
     "output_type": "execute_result"
    }
   ],
   "source": [
    "# my first algo\n",
    "\n",
    "def isBalanced(root: Optional[TreeNode]) -> bool:\n",
    "\n",
    "    if root is None:\n",
    "        return True\n",
    "\n",
    "    queue = [root]\n",
    "\n",
    "    while len(queue) > 0:\n",
    "\n",
    "        current_node = queue.pop()\n",
    "        print(current_node.val)\n",
    "\n",
    "        if (current_node.left is not None) & (current_node.right is not None):\n",
    "            if abs(height(current_node.left)-height(current_node.right))>1:\n",
    "                return False\n",
    "        elif (current_node.left is not None):\n",
    "            print(height(current_node.left))\n",
    "            if height(current_node.left)>1:\n",
    "                return False\n",
    "        elif (current_node.right is not None):\n",
    "            print(height(current_node.right))\n",
    "            if height(current_node.right)>1:\n",
    "                return False\n",
    "            \n",
    "        if current_node.left is not None:\n",
    "            queue.insert(0,current_node.left)\n",
    "\n",
    "        if current_node.right is not None:\n",
    "            queue.insert(0,current_node.right)\n",
    "\n",
    "    return True\n",
    "\n",
    "rootD = from_level_order_list([1,2,2,3,None,None,3,4,None,None,4])\n",
    "isBalanced(rootD) # expect false "
   ]
  },
  {
   "cell_type": "code",
   "execution_count": 4,
   "metadata": {},
   "outputs": [
    {
     "data": {
      "text/plain": [
       "False"
      ]
     },
     "execution_count": 4,
     "metadata": {},
     "output_type": "execute_result"
    }
   ],
   "source": [
    "# simpler recursive solution\n",
    "\n",
    "def isBalanced(root: Optional[TreeNode]) -> bool:\n",
    "\n",
    "    ''' \n",
    "    This algorithm is recursive, \n",
    "    so 'this' refers to whichever node is being visited.\n",
    "    for this node to be balanced, both its child nodes have to\n",
    "    be balanced and also the Depth of each child node cannot have a\n",
    "    difference greater than one. '''\n",
    "\n",
    "    # base case A\n",
    "    if root is None: return True # empty nodes are balanced\n",
    "\n",
    "    # recurrence and work are intertwinded in his case\n",
    "    # recurrence will return for us if the tree is balanced\n",
    "    # with respect to each of this node's children, but\n",
    "    # it will not yet tell us if the tree is balanced with\n",
    "    # respect to this particular node, for this particular\n",
    "    # node to be balanced, not only do its child nodes need to be\n",
    "    # balanced but also the difference in depths of its child nodes\n",
    "    # must also be small by the criteria applied recursively\n",
    "    # which is abs(leftDepth - rightDepth) > 1 \n",
    "\n",
    "    left_balanced = isBalanced(root.left) \n",
    "    right_balanced = isBalanced(root.right)\n",
    "    # the recurrence steps occurs first because they will\n",
    "    # have replaced all decendant node's vals with their depths\n",
    "\n",
    "    # we then collect those depths from their values\n",
    "    # to calculate the last criteria\n",
    "    leftDepth = root.left.val if root.left else 0\n",
    "    rightDepth = root.right.val if root.right else 0\n",
    "\n",
    "    # base case B\n",
    "    if leftDepth == rightDepth == 0: \n",
    "        root.val = 1 # this is a leaf\n",
    "    elif abs(leftDepth - rightDepth) > 1: \n",
    "        return False # this is un unbalanced bifurcation wrt child comparison\n",
    "    else: \n",
    "        root.val = max(leftDepth, rightDepth) + 1 \n",
    "        # this is a balanced wrt child depth comparison, not necessarily wrt \n",
    "        # each child balancedness \n",
    "\n",
    "    # finaly, we know  this is a balanced wrt child comparison, so return\n",
    "    # if this is balanced wrt each child balancedness \n",
    "    return left_balanced and right_balanced\n",
    "\n",
    "rootD = from_level_order_list([1,2,2,3,None,None,3,4,None,None,4])\n",
    "isBalanced(rootD) # expect false "
   ]
  },
  {
   "cell_type": "markdown",
   "metadata": {},
   "source": [
    "### Max Profit\n",
    "\n",
    "O(n) algo to determine max profit if the buy price must be to the left of the sell price"
   ]
  },
  {
   "cell_type": "code",
   "execution_count": 7,
   "metadata": {},
   "outputs": [
    {
     "data": {
      "text/plain": [
       "5"
      ]
     },
     "execution_count": 7,
     "metadata": {},
     "output_type": "execute_result"
    }
   ],
   "source": [
    "def maxProfit(prices: List[int]) -> int:\n",
    "\n",
    "    profits = []\n",
    "    min_price = max(prices)\n",
    "\n",
    "    for price in prices:\n",
    "        if price < min_price:\n",
    "            min_price = price\n",
    "        elif price >= min_price:\n",
    "            profits.append(price - min_price)\n",
    "\n",
    "    return max(profits)\n",
    "\n",
    "maxProfit([7,1,5,3,6,4])"
   ]
  },
  {
   "cell_type": "markdown",
   "metadata": {},
   "source": [
    "### Linked List"
   ]
  },
  {
   "cell_type": "code",
   "execution_count": 8,
   "metadata": {},
   "outputs": [
    {
     "name": "stdout",
     "output_type": "stream",
     "text": [
      "[1, 4, 5]\n",
      "[1, 2, 2]\n",
      "[1, 1, 2, 2, 4, 5]\n"
     ]
    }
   ],
   "source": [
    "from typing import Optional, List\n",
    "\n",
    "class ListNode:\n",
    "    def __init__(self, val=0, next=None):\n",
    "        self.val = val\n",
    "        self.next = next\n",
    "        \n",
    "a = [1,4,5]\n",
    "b = [1,2,2]\n",
    "\n",
    "def create_linked_list(int_list: List) -> ListNode:\n",
    "    \n",
    "    for i, val in enumerate(int_list):\n",
    "        if i == 0:\n",
    "            head = current = ListNode(val,None)\n",
    "        else:\n",
    "            current.next = ListNode(val,None)\n",
    "            current = current.next\n",
    "    return head\n",
    "    \n",
    "headA = create_linked_list(a)\n",
    "headB = create_linked_list(b)\n",
    "\n",
    "def traverse(node: ListNode):\n",
    "    \n",
    "    val_list = []\n",
    "    \n",
    "    while node.next:\n",
    "        val_list.append(node.val)\n",
    "        node = node.next\n",
    "        \n",
    "    val_list.append(node.val)\n",
    "    \n",
    "    return val_list \n",
    "\n",
    "print(traverse(headA)) # 1,4,5\n",
    "print(traverse(headB)) # 1,2,2\n",
    "\n",
    "def mergeTwoLists(list1: Optional[ListNode], list2: Optional[ListNode]) -> Optional[ListNode]:\n",
    "\n",
    "    head = ListNode()\n",
    "    current = head\n",
    "\n",
    "    while list1 and list2:\n",
    "        if list1.val < list2.val:\n",
    "            current.next = list1\n",
    "            current = list1\n",
    "            list1 = list1.next\n",
    "\n",
    "        else:\n",
    "            current.next = list2\n",
    "            current = list2\n",
    "            list2 = list2.next\n",
    "\n",
    "    current.next = list1 or list2\n",
    "    return head.next\n",
    "\n",
    "headC = mergeTwoLists(headA,headB)\n",
    "\n",
    "print(traverse(headC)) # [1, 1, 2, 2, 4, 5] "
   ]
  },
  {
   "cell_type": "markdown",
   "metadata": {},
   "source": [
    "return the indices of the two elements that add up to target value"
   ]
  },
  {
   "cell_type": "code",
   "execution_count": 9,
   "metadata": {},
   "outputs": [
    {
     "data": {
      "text/plain": [
       "[0, 1]"
      ]
     },
     "execution_count": 9,
     "metadata": {},
     "output_type": "execute_result"
    }
   ],
   "source": [
    "from typing import List\n",
    "\n",
    "class Solution:\n",
    "    \n",
    "    def twoSum(self, nums: List[int], target: int) -> List[int]:\n",
    "        len_nums = len(nums)\n",
    "        for i in range(len_nums):\n",
    "            for j in range(i+1,len_nums):\n",
    "                if nums[i] + nums[j] == target:\n",
    "                    return [i, j]\n",
    "                \n",
    "        return [-1, -1]\n",
    "    \n",
    "solution = Solution()\n",
    "solution.twoSum([2,7,11,15],9)"
   ]
  },
  {
   "cell_type": "markdown",
   "metadata": {},
   "source": [
    "is t a reordered version of s"
   ]
  },
  {
   "cell_type": "code",
   "execution_count": 14,
   "metadata": {},
   "outputs": [
    {
     "data": {
      "text/plain": [
       "True"
      ]
     },
     "execution_count": 14,
     "metadata": {},
     "output_type": "execute_result"
    }
   ],
   "source": [
    "def isAnagram(s: str, t: str) -> bool:\n",
    "    # there is O(n) operation (in) nested within a for loop, so this is O(n^2)\n",
    "    for c in s:\n",
    "        if c in t:\n",
    "            t = t.replace(c,'',1)\n",
    "        else:\n",
    "            return False\n",
    "        \n",
    "    return len(t) == 0\n",
    "\n",
    "isAnagram(\"anagram\", \"nagaram\")"
   ]
  },
  {
   "cell_type": "code",
   "execution_count": 15,
   "metadata": {},
   "outputs": [
    {
     "data": {
      "text/plain": [
       "True"
      ]
     },
     "execution_count": 15,
     "metadata": {},
     "output_type": "execute_result"
    }
   ],
   "source": [
    "def isAnagram(s: str, t: str) -> bool:\n",
    "    \n",
    "    # The ord() function returns an integer representing the Unicode character. \n",
    "    \n",
    "    alp = [0] * 26 # this is a histogram for the counts of each letter\n",
    "    \n",
    "    # if every up count in s is balanced by a downtick in t, the the result is all zero\n",
    "    # a is 97 and z is 122, in alphabetical order\n",
    "    for char in s:\n",
    "        alp[ord(char) - ord('a')] += 1\n",
    "    for char in t:\n",
    "        alp[ord(char) - ord('a')] -= 1\n",
    "        \n",
    "    # if any bin is not 0, return false\n",
    "    for let in alp:\n",
    "        if let != 0: return False\n",
    "        \n",
    "    return True\n",
    "\n",
    "isAnagram(\"anagram\", \"nagaram\")"
   ]
  },
  {
   "cell_type": "code",
   "execution_count": 16,
   "metadata": {},
   "outputs": [
    {
     "name": "stdout",
     "output_type": "stream",
     "text": [
      "97\n",
      "98\n",
      "99\n",
      "100\n",
      "101\n",
      "102\n",
      "103\n",
      "104\n",
      "105\n",
      "106\n",
      "107\n",
      "108\n",
      "109\n",
      "110\n",
      "111\n",
      "112\n",
      "113\n",
      "114\n",
      "115\n",
      "116\n",
      "117\n",
      "118\n",
      "119\n",
      "120\n",
      "121\n",
      "122\n"
     ]
    }
   ],
   "source": [
    "for s in 'abcdefghijklmnopqrstuvwxyz':\n",
    "    print(ord(s))"
   ]
  },
  {
   "cell_type": "markdown",
   "metadata": {},
   "source": [
    "An image is represented by an m x n integer grid image where image[i][j] represents the pixel value of the image.\n",
    "\n",
    "You are also given three integers sr, sc, and color. You should perform a flood fill on the image starting from the pixel image[sr][sc].\n",
    "\n",
    "To perform a flood fill, consider the starting pixel, plus any pixels connected 4-directionally to the starting pixel of the same color as the starting pixel, plus any pixels connected 4-directionally to those pixels (also with the same color), and so on. Replace the color of all of the aforementioned pixels with color.\n",
    "\n",
    "Return the modified image after performing the flood fill.\n",
    "\n",
    "<img src = \"https://assets.leetcode.com/uploads/2021/06/01/flood1-grid.jpg\">"
   ]
  },
  {
   "cell_type": "code",
   "execution_count": 34,
   "metadata": {},
   "outputs": [
    {
     "data": {
      "text/plain": [
       "[[0, 0, 0], [0, 0, 0]]"
      ]
     },
     "execution_count": 34,
     "metadata": {},
     "output_type": "execute_result"
    }
   ],
   "source": [
    "def floodFill(image: List[List[int]], sr: int, sc: int, color: int) -> List[List[int]]:\n",
    "    \n",
    "    orig_color = image[sr][sc]\n",
    "    image[sr][sc] = color\n",
    "\n",
    "    for r,c in [(sr+1,sc),(sr-1,sc),(sr,sc+1),(sr,sc-1)]:\n",
    "        if (-1 < r < len(image)) & (-1 < c < len(image[sr])):\n",
    "            if (image[r][c] == orig_color) & (orig_color != color):\n",
    "                floodFill(image,r,c,color)\n",
    "\n",
    "    return image\n",
    "\n",
    "#floodFill([[1,1,1],[1,1,0],[1,0,1]],1,1,2)\n",
    "floodFill([[0,0,0],[0,0,0]],0,0,0)"
   ]
  },
  {
   "cell_type": "code",
   "execution_count": 8,
   "metadata": {},
   "outputs": [
    {
     "name": "stdout",
     "output_type": "stream",
     "text": [
      "3\n",
      "3\n",
      "7\n"
     ]
    }
   ],
   "source": [
    "x = 1\n",
    "y = x + 2\n",
    "print(y)\n",
    "x = 5\n",
    "print(y)\n",
    "y = x + 2\n",
    "print(y)"
   ]
  },
  {
   "cell_type": "markdown",
   "metadata": {},
   "source": [
    "### Shortest Weighted Path with Djikstra\n",
    "\n",
    "Running Time\n",
    "We have the following operations:\n",
    "\n",
    "O(V) inserts into priority queue (initialization step)\n",
    "O(V) extract min operations (queue starts with V nodes and keeps popping until it runs out)\n",
    "for every one of the extracted vertices, we do as many decrease key operations as there are outgoing edges (in the worst case). summing that over all nodes amounts to O(E) decrease key operations.\n",
    "The actual time complexity hinges on the data structure used to implement the priority queue.\n",
    "\n",
    "Using an unsorted array, extracting the minimum would require a full pass through the vertices, incurring a cost of O(V). Decreasing a key’s value can be done in constant time. The result is O(V² + E) = O(V²).\n",
    "\n",
    "Using a binary heap, both operations would cost O(log(V)). the total running time is O(V.log(V) + E.log(V)) = O(E.log(V)).\n",
    "\n",
    "Using a Fibonacci heap, you can get O(E) running time, but that’s too fancy a data structure for practical use.\n",
    "\n",
    "As to which one is the better approach, it (clearly) depends on the value of E. The best value E can have is V -1* (when the graph is just connected). For sparse graphs E = O(V), making the binary heap a better option.\n",
    "\n",
    "The worst case happens when the graph is dense and we have edges from every node to almost every other node. In that case, E = O(V²), and you’re better off using the array implementation to save cost over those decrease key operations.\n",
    "\n",
    "<img src=\"https://miro.medium.com/v2/resize:fit:534/format:webp/1*iAx3feTrpr1jyuid0YqRZg.png\">"
   ]
  },
  {
   "cell_type": "code",
   "execution_count": 18,
   "metadata": {},
   "outputs": [],
   "source": [
    "import heapq\n",
    "from math import inf\n",
    "\n",
    "\n",
    "def dijkstra(adj, start, target):\n",
    "    '''\n",
    "    adj is a dictionary representation of a graph like:\n",
    "    \n",
    "    adj = {\n",
    "       \"A\": [(\"B\", 1), (\"C\", 4), (\"D\", 2)],\n",
    "       \"B\": [(\"A\", 2), (\"C\", 1)],\n",
    "       \"C\": [(\"A\", 4), (\"B\", 1)],\n",
    "       \"D\": [(\"A\", 2)]\n",
    "    }\n",
    "    \n",
    "    where each key is a vertex or node, and each element in the value list\n",
    "    is a (vertex_connected_to_key, weight_for_that_edge_connecting_vertex_to_key)\n",
    "    '''\n",
    "    d = {start: 0} # dictionary that stores vertex:weighted distance_from_start in key:value\n",
    "    parent = {start: None} # dictionary that stores best vertex to get to key from\n",
    "    pq = [(0, start)] # priority queue, initialized with (distance from start, start_vertex)\n",
    "    visited = set() # set of visited verticies\n",
    "    while pq:\n",
    "        du, u = heapq.heappop(pq)\n",
    "        if u in visited: continue\n",
    "        if u == target:\n",
    "            break\n",
    "        visited.add(u)\n",
    "        for v, weight in adj[u]:\n",
    "            if v not in d or d[v] > du + weight:\n",
    "                d[v] = du + weight\n",
    "                parent[v] = u\n",
    "                heapq.heappush(pq, (d[v], v))\n",
    "\n",
    "\n",
    "    return parent, d\n"
   ]
  },
  {
   "cell_type": "code",
   "execution_count": 19,
   "metadata": {},
   "outputs": [
    {
     "name": "stdout",
     "output_type": "stream",
     "text": [
      "parent {'C': None, 'A': 'B', 'B': 'C', 'D': 'A'}\n",
      "distances {'C': 0, 'A': 3, 'B': 1, 'D': 5}\n"
     ]
    }
   ],
   "source": [
    "adj = {\"A\": [(\"B\", 1), (\"C\", 4), (\"D\", 2)],\n",
    "       \"B\": [(\"A\", 2), (\"C\", 1)],\n",
    "       \"C\": [(\"A\", 4), (\"B\", 1)],\n",
    "       \"D\": [(\"A\", 2)]}\n",
    "\n",
    "start, target = \"C\", \"D\"\n",
    "parent, d = dijkstra(adj, start, target)\n",
    "\n",
    "print('parent', parent)\n",
    "print('distances', d)"
   ]
  },
  {
   "cell_type": "code",
   "execution_count": 20,
   "metadata": {},
   "outputs": [
    {
     "name": "stdout",
     "output_type": "stream",
     "text": [
      "path from start C to target D: ['C', 'B', 'A', 'D']\n"
     ]
    }
   ],
   "source": [
    "def path(node, parent):\n",
    "    path = []\n",
    "    while node:\n",
    "        path.append(node)\n",
    "        node = parent[node]\n",
    "    \n",
    "    return path\n",
    "\n",
    "path = path(target, parent) # path from target to source\n",
    "path.reverse()\n",
    "print(f'path from start {start} to target {target}:', path)"
   ]
  },
  {
   "cell_type": "code",
   "execution_count": 29,
   "metadata": {},
   "outputs": [
    {
     "name": "stdout",
     "output_type": "stream",
     "text": [
      "(1, 'write spec')\n",
      "(3, 'create tests')\n",
      "(5, 'write code')\n",
      "(7, 'release product')\n"
     ]
    }
   ],
   "source": [
    "# heapq is a binary heap, with O(log n) push and O(log n) pop\n",
    "# A Binary Heap is a complete Binary Tree which is used to store data efficiently \n",
    "# to get the max or min element based on its structure.\n",
    "# complete means balanced and filled from left to right at each level\n",
    "\n",
    "import heapq\n",
    "\n",
    "h = [] # list filled with (priority, data)\n",
    "heapq.heappush(h, (5, 'write code'))\n",
    "heapq.heappush(h, (7, 'release product'))\n",
    "heapq.heappush(h, (1, 'write spec'))\n",
    "heapq.heappush(h, (3, 'create tests'))\n",
    "print(heapq.heappop(h))\n",
    "print(heapq.heappop(h))\n",
    "print(heapq.heappop(h))\n",
    "print(heapq.heappop(h))\n",
    "#print(heapq.heappop(h)) # popping an empty queue will result in error \"IndexError: index out of range\"\n",
    "if h: print(heapq.heappop(h)) # use the list itself as a boolean for non-emptiness\n",
    "    "
   ]
  },
  {
   "cell_type": "code",
   "execution_count": 30,
   "metadata": {},
   "outputs": [
    {
     "data": {
      "text/plain": [
       "['a', 'b', 'c', 'd']"
      ]
     },
     "execution_count": 30,
     "metadata": {},
     "output_type": "execute_result"
    }
   ],
   "source": [
    "list('abcd')"
   ]
  },
  {
   "cell_type": "markdown",
   "metadata": {},
   "source": [
    "### return all positions of anagrams of a pattern in a longer text\n",
    "\n",
    "ie pattern \"ABCD\" occurs at position 0, 5 and 6 in text \"BACDGABCDA\" \n",
    "\n",
    "There exists a intuitive solution which has time complexity:\n",
    "\n",
    "O(mlogm) + O((n-m+1)(m + mlogm + m)) \n",
    "\n",
    "Where m is the length of the pattern and n is the length of the text\n",
    "\n",
    "Where you march through each position in text from 0 to n-m+1 (inclusive) only looking at \n",
    "the m next characters from that position O(n-m+1). You sort those next m characters O(mlogm) and compare them to the sorted version of pattern.\n",
    "\n",
    "we add an extra O(mlogm) to the beginning for first sorting the pattern and 2 nested O(m)'s inside the (n-m+1) for loop because comparison and copying a temp string to sort the next m characters are both O(m) operations\n",
    "\n",
    "The below algorithm is a modified Rabin Karp that can achieve O(n) time complexity under the assumption that alphabet size is fixed which is typically true as we have maximum 256 possible characters in ASCII. \n",
    "\n",
    "The idea is to use two count arrays (you can think of them as histograms), each bin is a character. if the histograms of two sequences match, they are anagrams. \n",
    "\n",
    "\n",
    "The ord() function returns an integer representing the Unicode character. \n",
    "ord('a') is 97 and ord('z') is 122, in alphabetical order\n"
   ]
  },
  {
   "cell_type": "code",
   "execution_count": 31,
   "metadata": {},
   "outputs": [
    {
     "name": "stdout",
     "output_type": "stream",
     "text": [
      "Found at Index 0\n",
      "Found at Index 5\n",
      "Found at Index 6\n"
     ]
    }
   ],
   "source": [
    "# Python program to search all\n",
    "# anagrams of a pattern in a text\n",
    " \n",
    "MAX=256\n",
    " \n",
    "# This function returns true\n",
    "# if contents of arr1[] and arr2[]\n",
    "# are same, otherwise false.\n",
    "def compare(arr1, arr2):\n",
    "    for i in range(MAX):\n",
    "        if arr1[i] != arr2[i]:\n",
    "            return False\n",
    "    return True\n",
    "     \n",
    "# This function search for all\n",
    "# permutations of pat[] in txt[] \n",
    "def search(pat, txt):\n",
    " \n",
    "    M = len(pat)\n",
    "    N = len(txt)\n",
    " \n",
    "    # countP[]:  Store count of\n",
    "    # all characters of pattern\n",
    "    # countTW[]: Store count of\n",
    "    # current window of text\n",
    "    countP = [0]*MAX\n",
    "    countTW = [0]*MAX\n",
    "    \n",
    "    # create histograms, when these histograms are the same\n",
    "    # we have a match. we start with indices 0 to M - 1\n",
    "    for i in range(M):\n",
    "        (countP[ord(pat[i]) ]) += 1\n",
    "        (countTW[ord(txt[i]) ]) += 1\n",
    " \n",
    "    # Traverse through remaining\n",
    "    # characters of pattern, starting with M \n",
    "    # in the first iter, if before changing the histogram, there is a match\n",
    "    # that means there is a match in the M - M position, or 0. \n",
    "    for i in range(M,N):\n",
    " \n",
    "        # Compare counts of current\n",
    "        # window of text with\n",
    "        # counts of pattern[]\n",
    "        if compare(countP, countTW):\n",
    "            print(\"Found at Index\", (i-M))\n",
    " \n",
    "        # Add current character to current window\n",
    "        (countTW[ ord(txt[i]) ]) += 1\n",
    " \n",
    "        # Remove the first character of previous window\n",
    "        (countTW[ ord(txt[i-M]) ]) -= 1\n",
    "     \n",
    "    # notice that we do the comparison first, which means\n",
    "    # that when the for loop ends we have one last comparison to make\n",
    "    # Check for the last window in text   \n",
    "    if compare(countP, countTW):\n",
    "        print(\"Found at Index\", N-M)\n",
    "         \n",
    "# Driver program to test above function      \n",
    "txt = \"BACDGABCDA\"\n",
    "pat = \"ABCD\"      \n",
    "search(pat, txt)  \n",
    " \n",
    "# This code is contributed\n",
    "# by Upendra Singh Bartwal"
   ]
  },
  {
   "cell_type": "code",
   "execution_count": 1,
   "metadata": {},
   "outputs": [
    {
     "data": {
      "text/plain": [
       "97"
      ]
     },
     "execution_count": 1,
     "metadata": {},
     "output_type": "execute_result"
    }
   ],
   "source": [
    "ord('a')"
   ]
  },
  {
   "cell_type": "code",
   "execution_count": null,
   "metadata": {},
   "outputs": [],
   "source": []
  }
 ],
 "metadata": {
  "kernelspec": {
   "display_name": "Python 3 (ipykernel)",
   "language": "python",
   "name": "python3"
  },
  "language_info": {
   "codemirror_mode": {
    "name": "ipython",
    "version": 3
   },
   "file_extension": ".py",
   "mimetype": "text/x-python",
   "name": "python",
   "nbconvert_exporter": "python",
   "pygments_lexer": "ipython3",
   "version": "3.10.0"
  }
 },
 "nbformat": 4,
 "nbformat_minor": 2
}

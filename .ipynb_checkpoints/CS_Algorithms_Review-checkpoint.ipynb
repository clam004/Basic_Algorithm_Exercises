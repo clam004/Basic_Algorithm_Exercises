{
 "cells": [
  {
   "cell_type": "markdown",
   "metadata": {},
   "source": [
    "## Review of Computer Science Algorithms Analysis\n",
    "\n",
    "A collection of basic algorithmic design exercises with math and explainations"
   ]
  },
  {
   "cell_type": "markdown",
   "metadata": {},
   "source": [
    "### MergeSort\n",
    "\n",
    "Mergesort is a classic and great teaching example of recurrence and Big-O analysis \n",
    "\n",
    "Recurrence has 3 properties, and these are those 3 properties in the context of\n",
    "MergeSort sorting an array:\n",
    "\n",
    "1. basecase = when array is length 1\n",
    "\n",
    "2. recurrence = sort the left and right portions of the array same as you sort the array\n",
    "\n",
    "3. work = combines 2 already sorted arrays into 1 sorted array \n",
    "\n",
    "Below is the mergesort function but further down is the line by line breakdown\n",
    "\n",
    "As you look at the overall function below, the first thing to notice is that the recurrence is such that at each level of recurrence the length n job is divided into 2 jobs of length n/2"
   ]
  },
  {
   "cell_type": "code",
   "execution_count": 22,
   "metadata": {},
   "outputs": [],
   "source": [
    "# Merge Sort O(nlogn) \n",
    "def mergeSort(arr): \n",
    "    # 1. Basecase = when array is length 1 return the single element array, \n",
    "    # here the modification of the array is done in place, so do nothing if \n",
    "    # len(arr) < 1, else apply the recursion, there is nothing to return\n",
    "    if len(arr) > 1: \n",
    "        # Divide the array elements into 2 halves\n",
    "        mid = len(arr)//2 #Finding the mid of the array, 5//2 = 4//2 = 2\n",
    "        \n",
    "        # 2. Recurrence = sort the left and right portions of the array\n",
    "        # Copy data to temp arrays L[] and R[], modify arr in place. O(long(n))\n",
    "        L = arr[:mid] \n",
    "        R = arr[mid:] \n",
    "        mergeSort(L) # Sorting the first half \n",
    "        mergeSort(R) # Sorting the second half \n",
    "        \n",
    "        # 3. Work = combines 2 already sorted arrays into 1 sorted array O(n)\n",
    "        i = j = k = 0\n",
    "          \n",
    "        print(\"merge\")\n",
    "        while i < len(L) and j < len(R): \n",
    "            if L[i] < R[j]: \n",
    "                arr[k] = L[i] \n",
    "                i+=1\n",
    "            else: \n",
    "                arr[k] = R[j] \n",
    "                j+=1\n",
    "            k+=1\n",
    "        \n",
    "        # Checking if any elements are remaining in L or R, \n",
    "        # if so they must be larger than arr\n",
    "        while i < len(L): \n",
    "            print(\"l\")\n",
    "            arr[k] = L[i] \n",
    "            i+=1\n",
    "            k+=1\n",
    "            \n",
    "        while j < len(R): \n",
    "            print(\"r\")\n",
    "            arr[k] = R[j] \n",
    "            j+=1\n",
    "            k+=1\n",
    "            \n",
    "# O(log(n)) x O(n) = O(nlog(n))"
   ]
  },
  {
   "cell_type": "code",
   "execution_count": 23,
   "metadata": {},
   "outputs": [
    {
     "name": "stdout",
     "output_type": "stream",
     "text": [
      "unsorted [5, 2, 4, 0, 3]\n",
      "merge\n",
      "l\n",
      "merge\n",
      "r\n",
      "merge\n",
      "l\n",
      "merge\n",
      "l\n",
      "sorted [0, 2, 3, 4, 5]\n"
     ]
    }
   ],
   "source": [
    "array = [5,2,4,0,3]\n",
    "print('unsorted', array)\n",
    "mergeSort(array)\n",
    "print('sorted', array)"
   ]
  },
  {
   "cell_type": "markdown",
   "metadata": {},
   "source": [
    "The next thing to notice is that the work done on each of those 2 n/2 sized jobs is done at O(n) speed"
   ]
  },
  {
   "cell_type": "code",
   "execution_count": 8,
   "metadata": {},
   "outputs": [
    {
     "name": "stdout",
     "output_type": "stream",
     "text": [
      "[0, 2, 3, 4, 5]\n"
     ]
    }
   ],
   "source": [
    "# Work at each node of the recursion \n",
    "\n",
    "arr = [5,2,4,0,3]\n",
    "\n",
    "# Reccurece done here so L and R are sorted\n",
    "L = [2,5]\n",
    "R = [0,3,4]\n",
    "\n",
    "i = j = k = 0\n",
    "\n",
    "# Since L and R are already sorted, we can move from left to right comparing \n",
    "# the leftmost integer on L with the leftmost on R and add the lesser one \n",
    "# to the next index of our array sized len(L) + len(R) being modified in place\n",
    "\n",
    "while i < len(L) and j < len(R): \n",
    "    if L[i] < R[j]: \n",
    "        arr[k] = L[i] \n",
    "        i+=1\n",
    "    else: \n",
    "        arr[k] = R[j] \n",
    "        j+=1\n",
    "    k+=1\n",
    "\n",
    "# since L and R might be added to the running array at different rates\n",
    "# suppose L = [1 2 3], R = [5 6 7], L will finish before R, and visa versa\n",
    "# we simply add the remaining integers in the same order they are in R or L\n",
    "# since they are each sorted with respect to themselves\n",
    "\n",
    "while i < len(L): \n",
    "    arr[k] = L[i] \n",
    "    i+=1\n",
    "    k+=1\n",
    "\n",
    "while j < len(R): \n",
    "    arr[k] = R[j] \n",
    "    j+=1\n",
    "    k+=1\n",
    "    \n",
    "print(arr)"
   ]
  },
  {
   "cell_type": "markdown",
   "metadata": {},
   "source": [
    "return the index of an element if it exists in a list, else return -1, in O(log(n)) time"
   ]
  },
  {
   "cell_type": "code",
   "execution_count": 19,
   "metadata": {},
   "outputs": [
    {
     "data": {
      "text/plain": [
       "16"
      ]
     },
     "execution_count": 19,
     "metadata": {},
     "output_type": "execute_result"
    }
   ],
   "source": [
    "'''\n",
    "If your solution divides the work by half at each step: \n",
    "ie. if n = 16 and the work reduces like 16, 8, 4, 2, 1\n",
    "len([16, 8, 4, 2]) = 4 and log_2(16) = 4 since 2^4\n",
    "'''\n",
    "2**4"
   ]
  },
  {
   "cell_type": "code",
   "execution_count": null,
   "metadata": {},
   "outputs": [],
   "source": [
    "class Solution:\n",
    "    def search(self, nums: List[int], target: int) -> int:\n",
    "        if target in nums:\n",
    "            return nums.index(target)\n",
    "        else:\n",
    "            return -1"
   ]
  },
  {
   "cell_type": "code",
   "execution_count": 21,
   "metadata": {},
   "outputs": [
    {
     "data": {
      "text/plain": [
       "4"
      ]
     },
     "execution_count": 21,
     "metadata": {},
     "output_type": "execute_result"
    }
   ],
   "source": [
    "from typing import List\n",
    "\n",
    "def search(nums: List[int], target: int) -> int:\n",
    "    \n",
    "    low = 0 # lowest possible index target could be inclusively\n",
    "    high = len(nums) - 1 # highest possible index target could be inclusively\n",
    "\n",
    "    while low <= high:\n",
    "        mid = (high + low)//2 # midpoint rounded down, or if high == low, mid == high == low\n",
    "        if nums[mid] == target:\n",
    "            return mid\n",
    "        elif target > nums[mid]:\n",
    "            low = mid + 1\n",
    "        elif target < nums[mid]:\n",
    "            high = mid - 1\n",
    "\n",
    "    return -1\n",
    "\n",
    "search([-1,0,3,5,9,12], 9)"
   ]
  },
  {
   "cell_type": "markdown",
   "metadata": {},
   "source": [
    "## Master Method \n",
    "\n",
    "The Master method is of form T(n) = a*T(n/b) + O(n^d)\n",
    "\n",
    "Since each level splits n into 2 recursive calls, a = 2\n",
    "\n",
    "Since the portion that goes to each recursive call is n/2, b = 2\n",
    "\n",
    "Since the work done at each node is O(n^1), d = 1\n",
    "\n",
    "The depth of the recursion is log_b(n), for example n = 8 would have log_2(8) or 3 layers after the root, root = 1x8, layer 1 = 2x4, 4x2, layer 3 = 8x1 \n",
    "\n",
    "Since \n",
    "\n",
    "$$Total Work = n^{d} \\sum_{l=0}^{log_b(n)}(\\frac{a}{b^d})^{d}$$\n",
    "\n",
    "and since (a/b^d) = 2/2^1 = 1, n^d amount of work is done at each layer, of which there are log_b(n), n^d log_b(n) work is done\n",
    "\n",
    "for cases in which a = b^d, here 2 = 2^1, the time complexity is n^d log_2(n) , d = 1 so time complexity is O(nlogn)\n"
   ]
  },
  {
   "cell_type": "code",
   "execution_count": 26,
   "metadata": {},
   "outputs": [
    {
     "name": "stdout",
     "output_type": "stream",
     "text": [
      "4\n",
      "-1\n"
     ]
    }
   ],
   "source": [
    "# This function takes a number, if the number is a fibonacci number, then it gives you the\n",
    "# index of that number in the fibonacci sequence, otherwise if its not a fibonacci number,\n",
    "# it returns -1\n",
    "\n",
    "# fibonacci is f(n) = f(n-1) + f(n-2) where f(0) = f(1) = 1 \n",
    "# fibonacci sequence: 1, 1, 2, 3, 5, 8, 13\n",
    "# fibonacci indices:  0, 1, 2, 3, 4, 5, 6\n",
    "\n",
    "def fib2idx(fib):\n",
    "    smaller = 1\n",
    "    larger = 2\n",
    "    idx = 2 \n",
    "    fib_ = 2\n",
    "    if fib == 1: # 1 is the only fibonacci number that occurs twice, so we decult to idx = 1 for it\n",
    "        return 1\n",
    "    if fib == 2:\n",
    "        return 2\n",
    "    while fib_ != fib:\n",
    "        fib_ = smaller + larger # calculate the next fibonacci number\n",
    "        smaller = larger # reassign trail1 first, otherwise trail1 and trail2 will equal fib\n",
    "        larger = fib_\n",
    "        idx += 1\n",
    "        if fib_ > fib: # if we pass the input while trying to reach it, it means input is not a fibonacci number\n",
    "            return -1\n",
    "    return idx\n",
    "        \n",
    "print(fib2idx(5))\n",
    "print(fib2idx(7))"
   ]
  },
  {
   "cell_type": "markdown",
   "metadata": {},
   "source": [
    "## This function runs in O(log(n)) time with respect to n = fib\n",
    "consider r = (1 + sqrt(5))/2 \n",
    "\n",
    "r^2 = \n",
    "\n",
    "i = index of the fibonacci number\n",
    "fi = the ith fibonacci number\n",
    "\n",
    "consider the relation fi >= r^(i-2), where \n",
    "\n",
    "https://www.cs.cornell.edu/courses/cs280/2005fa/induction.pdf"
   ]
  },
  {
   "cell_type": "code",
   "execution_count": 60,
   "metadata": {},
   "outputs": [
    {
     "name": "stdout",
     "output_type": "stream",
     "text": [
      "True\n",
      "True\n",
      "False\n",
      "False\n"
     ]
    }
   ],
   "source": [
    "def isValid(s: str) -> bool:\n",
    "    \"\"\"\n",
    "    this algorithm uses the 'stack' data structure to verify\n",
    "    that all open bracket types are properly closed eventually\n",
    "    just like in code\n",
    "    \"\"\"\n",
    "    stack = []\n",
    "    for u in s:\n",
    "        if u in '({[':\n",
    "            stack.append(u)\n",
    "        elif u == ')':\n",
    "            if not stack or stack.pop() != '(':\n",
    "                return False\n",
    "        elif u == '}':\n",
    "            if not stack or stack.pop() != '{':\n",
    "                return False\n",
    "        elif u == ']':\n",
    "            if not stack or stack.pop() != '[':\n",
    "                return False\n",
    "            \n",
    "    return len(stack) == 0\n",
    "            \n",
    "print(isValid('()[]'))\n",
    "print(isValid('([]{})'))\n",
    "print(isValid('([)])'))\n",
    "print(isValid('}())'))"
   ]
  },
  {
   "cell_type": "markdown",
   "metadata": {},
   "source": [
    "## Linked Lists\n",
    "\n",
    "The head node has nobody pointing to it, the tail node points to null"
   ]
  },
  {
   "cell_type": "code",
   "execution_count": 35,
   "metadata": {},
   "outputs": [],
   "source": [
    "class linkedListNode:    \n",
    "    def __init__(self, value, nextNode=None):\n",
    "        self.value = int(value)        \n",
    "        self.nextNode = nextNode"
   ]
  },
  {
   "cell_type": "code",
   "execution_count": 69,
   "metadata": {},
   "outputs": [],
   "source": [
    "node1 = linkedListNode(\"1\") # \"3\"\n",
    "node2 = linkedListNode(\"2\") # \"7\"\n",
    "node3 = linkedListNode(\"3\") # \"10\"\n",
    "\n",
    "# “3”→”7\"→”10\"→Null \n",
    "node1.nextNode = node2 \n",
    "node2.nextNode = node3"
   ]
  },
  {
   "cell_type": "code",
   "execution_count": 85,
   "metadata": {},
   "outputs": [
    {
     "name": "stdout",
     "output_type": "stream",
     "text": [
      "1 <__main__.linkedListNode object at 0x1035051d0>\n",
      "2 <__main__.linkedListNode object at 0x103505198>\n",
      "3 <__main__.linkedListNode object at 0x103505588>\n",
      "4 None\n",
      "end node has value 4\n"
     ]
    }
   ],
   "source": [
    "def traverse(node):\n",
    "    print(node.value, node.nextNode)\n",
    "    if node.nextNode is not None:\n",
    "        traverse(node.nextNode) \n",
    "    else:\n",
    "        print(\"end node has value\", node.value)\n",
    "\n",
    "traverse(node1)"
   ]
  },
  {
   "cell_type": "code",
   "execution_count": 86,
   "metadata": {},
   "outputs": [
    {
     "name": "stdout",
     "output_type": "stream",
     "text": [
      "1 <__main__.linkedListNode object at 0x1035051d0>\n",
      "2 <__main__.linkedListNode object at 0x103505198>\n",
      "3 <__main__.linkedListNode object at 0x103505588>\n",
      "4 <__main__.linkedListNode object at 0x1035056a0>\n",
      "4 None\n",
      "end node has value 4\n"
     ]
    }
   ],
   "source": [
    "def insertNode(node, valuetoInsert):    \n",
    "    currentNode = node    \n",
    "    while currentNode is not None:        \n",
    "        if currentNode.nextNode is None: \n",
    "            insertedNode = linkedListNode(valuetoInsert)\n",
    "            currentNode.nextNode = insertedNode           \n",
    "            return insertedNode\n",
    "        currentNode = currentNode.nextNode\n",
    "        \n",
    "insertNode(node1, 4)\n",
    "\n",
    "traverse(node1)"
   ]
  },
  {
   "cell_type": "code",
   "execution_count": 87,
   "metadata": {},
   "outputs": [
    {
     "name": "stdout",
     "output_type": "stream",
     "text": [
      "1 <__main__.linkedListNode object at 0x1035051d0>\n",
      "2 <__main__.linkedListNode object at 0x103505198>\n",
      "3 <__main__.linkedListNode object at 0x1035056a0>\n",
      "4 None\n",
      "end node has value 4\n"
     ]
    }
   ],
   "source": [
    "def deleteNode(head, valueToDelete):    \n",
    "    currentNode = head    \n",
    "    previousNode = None    \n",
    "    while currentNode is not None:  \n",
    "        if currentNode.value == valueToDelete:     \n",
    "            if previousNode is None:                 \n",
    "                newHead = currentNode.nextNode                \n",
    "                currentNode.nextNode = None                \n",
    "                return newHead # Deleted the head            \n",
    "            previousNode.nextNode = currentNode.nextNode            \n",
    "            return head # skip current node \n",
    "        # else more forward\n",
    "        previousNode = currentNode        \n",
    "        currentNode = currentNode.nextNode    \n",
    "    return head # Value to delete was not found.\n",
    "    \n",
    "deleteNode(node1, 4)\n",
    "traverse(node1)"
   ]
  },
  {
   "cell_type": "code",
   "execution_count": 89,
   "metadata": {},
   "outputs": [],
   "source": [
    "node1 = linkedListNode(\"1\") # \"3\"\n",
    "node2 = linkedListNode(\"2\") # \"7\"\n",
    "node3 = linkedListNode(\"3\") # \"10\"\n",
    "\n",
    "# “3”→”7\"→”10\"→Null \n",
    "node1.nextNode = node2 \n",
    "node2.nextNode = node3\n",
    "\n",
    "node4 = insertNode(node1, 4)\n",
    "node4.nextNode = node2"
   ]
  },
  {
   "cell_type": "code",
   "execution_count": 94,
   "metadata": {},
   "outputs": [
    {
     "name": "stdout",
     "output_type": "stream",
     "text": [
      "loop\n"
     ]
    },
    {
     "data": {
      "text/plain": [
       "['1->', '2->', '3->', '4->', '2->']"
      ]
     },
     "execution_count": 94,
     "metadata": {},
     "output_type": "execute_result"
    }
   ],
   "source": [
    "def detectLoop(node):\n",
    "    nodelist = []\n",
    "    hashmap = set()\n",
    "    while node:\n",
    "        nodelist.append(str(node.value) + \"->\")\n",
    "        if node in hashmap:\n",
    "            print(\"loop\")\n",
    "            return nodelist\n",
    "        hashmap.add(node)\n",
    "        node = node.nextNode\n",
    "    nodelist.append(str(node.value + \"-> end\"))\n",
    "    print(\"no loop\")\n",
    "    return nodelist \n",
    "\n",
    "detectLoop(node1)"
   ]
  },
  {
   "cell_type": "markdown",
   "metadata": {},
   "source": [
    "## Trees \n",
    "\n",
    "Inverting a binary tree can be thought of as taking the mirror-image of the input tree\n",
    "\n",
    "<img src=\"https://www.techiedelight.com/wp-content/uploads/invert-binary-tree.png\" width=300 height=300>\n"
   ]
  },
  {
   "cell_type": "code",
   "execution_count": 102,
   "metadata": {},
   "outputs": [],
   "source": [
    "# A node contains the value, left and right pointers\n",
    "class newNode: \n",
    "    def __init__(self,data): \n",
    "        self.data = data \n",
    "        self.left = self.right = None\n",
    "        \n",
    "# print InOrder binary tree traversal.\n",
    "def print_tree(node) : \n",
    "    # InOrder is left, root, right, preorder is root, left, right \n",
    "    if (node == None):  \n",
    "        return\n",
    "    print_tree(node.left)  \n",
    "    print(node.data)\n",
    "    print_tree(node.right) "
   ]
  },
  {
   "cell_type": "code",
   "execution_count": 108,
   "metadata": {},
   "outputs": [
    {
     "name": "stdout",
     "output_type": "stream",
     "text": [
      "Inorder traversal of the constructed tree is\n",
      "1\n",
      "2\n",
      "3\n",
      "4\n",
      "5\n"
     ]
    }
   ],
   "source": [
    "root = newNode(2)  \n",
    "root.left = newNode(1)  \n",
    "root.right = newNode(4)  \n",
    "root.right.left = newNode(3)  \n",
    "root.right.right = newNode(5)  \n",
    "\n",
    "# Print inorder traversal of the input tree \n",
    "print(\"Inorder traversal of the constructed tree is\")  \n",
    "print_tree(root)  "
   ]
  },
  {
   "cell_type": "code",
   "execution_count": 109,
   "metadata": {},
   "outputs": [],
   "source": [
    "def invert(node):\n",
    "    if node is None: # Base Case , if leaft do nothing\n",
    "        return\n",
    "    else:\n",
    "        invert(node.left) # recursive calls\n",
    "        invert(node.right)\n",
    "        temp = node.left # from nodes with one or more leaves to root \n",
    "        node.left = node.right # swap the branches of the node \n",
    "        node.right = temp"
   ]
  },
  {
   "cell_type": "code",
   "execution_count": 110,
   "metadata": {},
   "outputs": [
    {
     "name": "stdout",
     "output_type": "stream",
     "text": [
      "\n",
      "Inorder traversal of the mirror treeis \n",
      "5\n",
      "4\n",
      "3\n",
      "2\n",
      "1\n"
     ]
    }
   ],
   "source": [
    "# Convert tree to its mirror\n",
    "invert(root)  \n",
    "  \n",
    "# Print inorder traversal of the mirror tree\n",
    "print(\"\\nInorder traversal of the mirror treeis \")  \n",
    "print_tree(root)  "
   ]
  },
  {
   "cell_type": "markdown",
   "metadata": {},
   "source": [
    "## Balanced Trees\n",
    "\n",
    "Balanced Binary Trees are trees in which the height is kept to a minimum and all nodes-values in the left subtree of a node_i are less than the value of node_i, likewise all the nodes in the right subtree are greater. This balance keeps operations such as seach, insertion and deletion to a computational time complexity of O(log_2(n)) rather than n. Which is a huge difference (log_2(10^6) ~= 19). "
   ]
  },
  {
   "cell_type": "code",
   "execution_count": 3,
   "metadata": {},
   "outputs": [],
   "source": [
    "# Definition for a binary tree node.\n",
    "# https://www.geeksforgeeks.org/level-order-tree-traversal/\n",
    "  \n",
    "from typing import Optional, List\n",
    "    \n",
    "class TreeNode:\n",
    "    def __init__(self, val=0, left=None, right=None):\n",
    "        self.val = val\n",
    "        self.left = left\n",
    "        self.right = right\n",
    "        \n",
    "    def insert(self, val):\n",
    "        \n",
    "        if self.val:\n",
    "            if val <= self.val:\n",
    "                if self.left is None:\n",
    "                    self.left = TreeNode(val)\n",
    "                else:\n",
    "                    self.left.insert(val)\n",
    "            else:\n",
    "                if self.right is None:\n",
    "                    self.right = TreeNode(val)\n",
    "                else:\n",
    "                    self.right.insert(val)\n",
    "        else:\n",
    "            self.val = val\n",
    "            "
   ]
  },
  {
   "cell_type": "code",
   "execution_count": 39,
   "metadata": {},
   "outputs": [],
   "source": [
    "def height(node):\n",
    "    if node is None:\n",
    "        return 0\n",
    "    else:\n",
    "        # Compute the height of each subtree\n",
    "        lheight = height(node.left)\n",
    "        rheight = height(node.right)\n",
    "\n",
    "        # Use the larger one\n",
    "        if lheight > rheight:\n",
    "            return lheight+1\n",
    "        else:\n",
    "            return rheight+1\n",
    "\n",
    "# Function to  print level order traversal of tree\n",
    "def printLevelOrder(root):\n",
    "    h = height(root)\n",
    "    for i in range(1, h+1):\n",
    "        printCurrentLevel(root, i)\n",
    "\n",
    "\n",
    "# Print nodes at a current level\n",
    "def printCurrentLevel(root, level):\n",
    "    if root is None:\n",
    "        return\n",
    "    if level == 1:\n",
    "        print(root.val, end=\" \")\n",
    "    elif level > 1:\n",
    "        printCurrentLevel(root.left, level-1)\n",
    "        printCurrentLevel(root.right, level-1)\n",
    "        \n",
    "def invertTree(root: Optional[TreeNode]) -> Optional[TreeNode]:\n",
    "\n",
    "    if root is None:\n",
    "        return None\n",
    "    #print(root.val)\n",
    "    left = invertTree(root.left)\n",
    "    right = invertTree(root.right)\n",
    "    root.left = right\n",
    "    root.right = left\n",
    "    return root\n",
    "\n",
    "def invertTree_wrong(root: Optional[TreeNode]) -> Optional[TreeNode]:\n",
    "    \n",
    "    if root is None:\n",
    "        return None\n",
    "    #print(root.val)\n",
    "    left = invertTree(root.left)\n",
    "    right = invertTree(root.right)\n",
    "    root.left = right\n",
    "    root.right = left\n",
    "    \n",
    "    return root\n",
    "\n",
    "def from_level_order_list(level_order: List) -> TreeNode:\n",
    "    values = iter(level_order)\n",
    "    root = TreeNode(next(values))\n",
    "    nodes_to_fill = [root]\n",
    "    try:\n",
    "        while True:\n",
    "            next_node = nodes_to_fill.pop(0)\n",
    "            new_left = next(values)\n",
    "            if new_left is not None:\n",
    "                next_node.left = TreeNode(new_left)\n",
    "                nodes_to_fill.append(next_node.left)\n",
    "            new_right = next(values)\n",
    "            if new_right is not None:\n",
    "                next_node.right = TreeNode(new_right)\n",
    "                nodes_to_fill.append(next_node.right)\n",
    "                \n",
    "    except StopIteration:\n",
    "        return root"
   ]
  },
  {
   "cell_type": "markdown",
   "metadata": {},
   "source": [
    "<img src=\"https://assets.leetcode.com/uploads/2021/03/14/invert1-tree.jpg\">"
   ]
  },
  {
   "cell_type": "code",
   "execution_count": 6,
   "metadata": {},
   "outputs": [
    {
     "name": "stdout",
     "output_type": "stream",
     "text": [
      "4 2 7 1 3 6 9 \n",
      " -- \n",
      " -- \n",
      "4 7 2 9 6 3 1 "
     ]
    }
   ],
   "source": [
    "# here is inversion of the tree above is represented in level order by the array below\n",
    "a = [4,2,7,1,3,6,9]\n",
    "\n",
    "for i, val in enumerate(a):\n",
    "    if i == 0:\n",
    "        root = TreeNode(val)\n",
    "    else:\n",
    "        root.insert(val)\n",
    "        \n",
    "printLevelOrder(root)\n",
    "print('\\n -- ')\n",
    "root = invertTree(root)\n",
    "print(' -- ')\n",
    "printLevelOrder(root)"
   ]
  },
  {
   "cell_type": "code",
   "execution_count": 52,
   "metadata": {},
   "outputs": [],
   "source": [
    "def lowestCommonAncestor(root: 'TreeNode', p: 'TreeNode', q: 'TreeNode') -> 'TreeNode':\n",
    "\n",
    "    if (p.val < root.val) & (q.val < root.val):\n",
    "        return lowestCommonAncestor(root.left, p, q)\n",
    "    elif (p.val > root.val) & (q.val > root.val):\n",
    "        return lowestCommonAncestor(root.right, p, q)\n",
    "    else:\n",
    "        return root \n",
    "    \n",
    "        # if root is between q and p, root is the LCA\n",
    "        # root is also the LCA if p == root or q == root, which would happen if you\n",
    "        # descend into q or p in the recursion"
   ]
  },
  {
   "cell_type": "markdown",
   "metadata": {},
   "source": [
    "<img src=\"https://assets.leetcode.com/uploads/2018/12/14/binarysearchtree_improved.png\">"
   ]
  },
  {
   "cell_type": "code",
   "execution_count": 91,
   "metadata": {},
   "outputs": [
    {
     "name": "stdout",
     "output_type": "stream",
     "text": [
      "6 2 8 0 4 7 9 3 5 \n",
      "------\n",
      "6\n"
     ]
    }
   ],
   "source": [
    "# create a binary search tree from a level ordered list, then find the lowest common ancestor\n",
    "root = from_level_order_list([6,2,8,0,4,7,9,None,None,3,5])\n",
    "\n",
    "printLevelOrder(root)\n",
    "\n",
    "lca = lowestCommonAncestor(root, root.left, root.right)\n",
    "\n",
    "print('\\n------')\n",
    "print(lca.val)"
   ]
  },
  {
   "cell_type": "code",
   "execution_count": 92,
   "metadata": {},
   "outputs": [
    {
     "data": {
      "text/plain": [
       "4"
      ]
     },
     "execution_count": 92,
     "metadata": {},
     "output_type": "execute_result"
    }
   ],
   "source": [
    "height(root)"
   ]
  },
  {
   "cell_type": "code",
   "execution_count": 82,
   "metadata": {},
   "outputs": [],
   "source": [
    "# algorithm that uses depth first search to find the node with a particular value\n",
    "\n",
    "def dfs_val(root: Optional[TreeNode], val: int) -> Optional[TreeNode]:\n",
    "    \n",
    "    \"\"\" depth first search (dfs) can be done by using the 'stack' data structure\n",
    "    to keep track of nodes as they are discovered but not yet explored. \n",
    "    \n",
    "    Because stacks are very first in last out (FILO), dfs will explore the most recently discovered\n",
    "    node before the nodes not yet explored, resulting in more nodes being added in the stack\n",
    "    that are both deeper and positioned to be explored before the nodes till waiting to be explored\n",
    "    \n",
    "    a python list can be used as a stack if you append to the right side and pop from the right side\n",
    "    \"\"\"\n",
    "    \n",
    "    stack = [root]\n",
    "    \n",
    "    while len(stack) > 0:\n",
    "        \n",
    "        current_node = stack.pop()\n",
    "        \n",
    "        print(current_node.val, len(stack))\n",
    "        \n",
    "        if current_node.val == val:\n",
    "            return current_node\n",
    "        \n",
    "        if current_node.left is not None:\n",
    "            stack.append(current_node.left)\n",
    "\n",
    "        if current_node.right is not None:\n",
    "            stack.append(current_node.right)\n",
    "            \n",
    "    return None\n",
    "\n",
    "            \n",
    "def bfs_val(root: Optional[TreeNode], val: int) -> Optional[TreeNode]:\n",
    "    \n",
    "    \"\"\" \n",
    "    breadth first search (bfs) can be done by using the 'queue' data structure\n",
    "    to keep track of nodes as they are discovered but not yet explored. \n",
    "    \n",
    "    Because queue's are very first in first out (FIFO), the nodes will be explroed in the\n",
    "    order they were discovered. Since nodes are discovered in the order of their level from\n",
    "    the root, breadth first search will move from the root, and move level by level, deeper\n",
    "    towards the leaves. \n",
    "    \n",
    "    a python list can be used as a queue if you queue.insert(0,new_node) to the left side\n",
    "    and queue.pop() from the right side, so that the line moves form left to right.\n",
    "    \n",
    "    in ----> out\n",
    "    \n",
    "    \"\"\"\n",
    "    \n",
    "    queue = [root]\n",
    "    \n",
    "    while len(queue) > 0:\n",
    "        \n",
    "        current_node = queue.pop()\n",
    "        \n",
    "        print(current_node.val, len(queue))\n",
    "        \n",
    "        if current_node.val == val:\n",
    "            return current_node\n",
    "        \n",
    "        if current_node.left is not None:\n",
    "            queue.insert(0,current_node.left)\n",
    "\n",
    "        if current_node.right is not None:\n",
    "            queue.insert(0,current_node.right)\n",
    "            \n",
    "    return None\n",
    "            "
   ]
  },
  {
   "cell_type": "code",
   "execution_count": 85,
   "metadata": {},
   "outputs": [
    {
     "name": "stdout",
     "output_type": "stream",
     "text": [
      "DFS: notice that the algorithm tranverses along the rightmost path 6->8 to touch the deepest node 9 first\n",
      "\n",
      "------\n",
      "6 0\n",
      "8 1\n",
      "9 2\n",
      "7 1\n",
      "2 0\n",
      "4 1\n",
      "5 2\n",
      "3 1\n",
      "\n",
      "------\n",
      "6 0\n",
      "8 1\n",
      "9 2\n",
      "7 1\n",
      "2 0\n",
      "4 1\n",
      "5 2\n",
      "\n",
      "------\n",
      "\n",
      "------\n",
      "4\n"
     ]
    }
   ],
   "source": [
    "root = from_level_order_list([6,2,8,0,4,7,9,None,None,3,5])\n",
    "print('DFS: notice that the algorithm tranverses along the rightmost path 6->8 to touch the deepest node 9 first')\n",
    "print('\\n------')\n",
    "rootA = dfs_val(root,3)\n",
    "print('\\n------')\n",
    "rootB = dfs_val(root,5)\n",
    "print('\\n------')\n",
    "lca = lowestCommonAncestor(root, rootA, rootB)\n",
    "print('\\n------')\n",
    "print(lca.val) # i expect this to return 4"
   ]
  },
  {
   "cell_type": "code",
   "execution_count": 88,
   "metadata": {},
   "outputs": [
    {
     "name": "stdout",
     "output_type": "stream",
     "text": [
      "6 0\n",
      "8 1\n",
      "9 2\n",
      "7 1\n",
      "2 0\n",
      "4 1\n",
      "5 2\n",
      "3 1\n",
      "0 0\n",
      "None\n"
     ]
    }
   ],
   "source": [
    "print(dfs_val(root,11))"
   ]
  },
  {
   "cell_type": "code",
   "execution_count": 89,
   "metadata": {},
   "outputs": [
    {
     "name": "stdout",
     "output_type": "stream",
     "text": [
      "BFS: notice that the algorithm tranverses in the same order as the level order list used to create the tree\n",
      "\n",
      "------\n",
      "6 0\n",
      "2 1\n",
      "8 2\n",
      "0 3\n",
      "4 2\n",
      "7 3\n",
      "9 2\n",
      "3 1\n",
      "\n",
      "------\n",
      "6 0\n",
      "2 1\n",
      "8 2\n",
      "0 3\n",
      "4 2\n",
      "7 3\n",
      "9 2\n",
      "3 1\n",
      "5 0\n",
      "\n",
      "------\n",
      "\n",
      "------\n",
      "4\n"
     ]
    }
   ],
   "source": [
    "root = from_level_order_list([6,2,8,0,4,7,9,None,None,3,5])\n",
    "print('BFS: notice that the algorithm tranverses in the same order as the level order list used to create the tree')\n",
    "print('\\n------')\n",
    "rootA = bfs_val(root,3)\n",
    "print('\\n------')\n",
    "rootB = bfs_val(root,5)\n",
    "print('\\n------')\n",
    "lca = lowestCommonAncestor(root, rootA, rootB)\n",
    "print('\\n------')\n",
    "print(lca.val) # i expect this to return 4"
   ]
  },
  {
   "cell_type": "code",
   "execution_count": 90,
   "metadata": {},
   "outputs": [
    {
     "name": "stdout",
     "output_type": "stream",
     "text": [
      "6 0\n",
      "2 1\n",
      "8 2\n",
      "0 3\n",
      "4 2\n",
      "7 3\n",
      "9 2\n",
      "3 1\n",
      "5 0\n",
      "None\n"
     ]
    }
   ],
   "source": [
    "print(bfs_val(root,11))"
   ]
  },
  {
   "cell_type": "code",
   "execution_count": 95,
   "metadata": {},
   "outputs": [
    {
     "name": "stdout",
     "output_type": "stream",
     "text": [
      "1\n",
      "2\n",
      "2\n"
     ]
    },
    {
     "data": {
      "text/plain": [
       "False"
      ]
     },
     "execution_count": 95,
     "metadata": {},
     "output_type": "execute_result"
    }
   ],
   "source": [
    "def isBalanced(root: Optional[TreeNode]) -> bool:\n",
    "\n",
    "    if root is None:\n",
    "        return True\n",
    "\n",
    "    queue = [root]\n",
    "\n",
    "    while len(queue) > 0:\n",
    "\n",
    "        current_node = queue.pop()\n",
    "        print(current_node.val)\n",
    "\n",
    "        if (current_node.left is not None) & (current_node.right is not None):\n",
    "            if abs(height(current_node.left)-height(current_node.right))>1:\n",
    "                return False\n",
    "        elif (current_node.left is not None):\n",
    "            print(height(current_node.left))\n",
    "            if height(current_node.left)>1:\n",
    "                return False\n",
    "        elif (current_node.right is not None):\n",
    "            print(height(current_node.right))\n",
    "            if height(current_node.right)>1:\n",
    "                return False\n",
    "            \n",
    "        if current_node.left is not None:\n",
    "            queue.insert(0,current_node.left)\n",
    "\n",
    "        if current_node.right is not None:\n",
    "            queue.insert(0,current_node.right)\n",
    "\n",
    "    return True\n",
    "\n",
    "rootD = from_level_order_list([1,2,2,3,None,None,3,4,None,None,4])\n",
    "isBalanced(rootD) # expect false "
   ]
  },
  {
   "cell_type": "code",
   "execution_count": 99,
   "metadata": {},
   "outputs": [
    {
     "data": {
      "text/plain": [
       "False"
      ]
     },
     "execution_count": 99,
     "metadata": {},
     "output_type": "execute_result"
    }
   ],
   "source": [
    "# simpler recursive solution\n",
    "\n",
    "def isBalanced(root: Optional[TreeNode]) -> bool:\n",
    "    \n",
    "    if root is None: return True # empty nodes are balanced\n",
    "    \n",
    "    '''for this node to be balanced, both its child nodes have to\n",
    "    be balanced and also the Depth of each child node cannot be\n",
    "    too different from each other'''\n",
    "    \n",
    "    left_balanced = isBalanced(root.left) \n",
    "    right_balanced = isBalanced(root.right)\n",
    "    \n",
    "    leftDepth = root.left.val if root.left else 0\n",
    "    rightDepth = root.right.val if root.right else 0\n",
    "    \n",
    "    if leftDepth == rightDepth == 0: root.val = 1\n",
    "    elif abs(leftDepth - rightDepth) > 1: return False\n",
    "    else: root.val = max(leftDepth, rightDepth) + 1\n",
    "    return left_balanced and right_balanced\n",
    "    \n",
    "rootD = from_level_order_list([1,2,2,3,None,None,3,4,None,None,4])\n",
    "isBalanced(rootD) # expect false "
   ]
  },
  {
   "cell_type": "markdown",
   "metadata": {},
   "source": [
    "### Max Profit\n",
    "\n",
    "O(n) algo to determine max profit if the buy price must be to the left of the sell price"
   ]
  },
  {
   "cell_type": "code",
   "execution_count": 7,
   "metadata": {},
   "outputs": [
    {
     "data": {
      "text/plain": [
       "5"
      ]
     },
     "execution_count": 7,
     "metadata": {},
     "output_type": "execute_result"
    }
   ],
   "source": [
    "def maxProfit(prices: List[int]) -> int:\n",
    "\n",
    "    profits = []\n",
    "    min_price = max(prices)\n",
    "\n",
    "    for price in prices:\n",
    "        if price < min_price:\n",
    "            min_price = price\n",
    "        elif price >= min_price:\n",
    "            profits.append(price - min_price)\n",
    "\n",
    "    return max(profits)\n",
    "\n",
    "maxProfit([7,1,5,3,6,4])"
   ]
  },
  {
   "cell_type": "markdown",
   "metadata": {},
   "source": [
    "### Linked List"
   ]
  },
  {
   "cell_type": "code",
   "execution_count": 8,
   "metadata": {},
   "outputs": [
    {
     "name": "stdout",
     "output_type": "stream",
     "text": [
      "[1, 4, 5]\n",
      "[1, 2, 2]\n",
      "[1, 1, 2, 2, 4, 5]\n"
     ]
    }
   ],
   "source": [
    "from typing import Optional, List\n",
    "\n",
    "class ListNode:\n",
    "    def __init__(self, val=0, next=None):\n",
    "        self.val = val\n",
    "        self.next = next\n",
    "        \n",
    "a = [1,4,5]\n",
    "b = [1,2,2]\n",
    "\n",
    "def create_linked_list(int_list: List) -> ListNode:\n",
    "    \n",
    "    for i, val in enumerate(int_list):\n",
    "        if i == 0:\n",
    "            head = current = ListNode(val,None)\n",
    "        else:\n",
    "            current.next = ListNode(val,None)\n",
    "            current = current.next\n",
    "    return head\n",
    "    \n",
    "headA = create_linked_list(a)\n",
    "headB = create_linked_list(b)\n",
    "\n",
    "def traverse(node: ListNode):\n",
    "    \n",
    "    val_list = []\n",
    "    \n",
    "    while node.next:\n",
    "        val_list.append(node.val)\n",
    "        node = node.next\n",
    "        \n",
    "    val_list.append(node.val)\n",
    "    \n",
    "    return val_list \n",
    "\n",
    "print(traverse(headA)) # 1,4,5\n",
    "print(traverse(headB)) # 1,2,2\n",
    "\n",
    "def mergeTwoLists(list1: Optional[ListNode], list2: Optional[ListNode]) -> Optional[ListNode]:\n",
    "\n",
    "    head = ListNode()\n",
    "    current = head\n",
    "\n",
    "    while list1 and list2:\n",
    "        if list1.val < list2.val:\n",
    "            current.next = list1\n",
    "            current = list1\n",
    "            list1 = list1.next\n",
    "\n",
    "        else:\n",
    "            current.next = list2\n",
    "            current = list2\n",
    "            list2 = list2.next\n",
    "\n",
    "    current.next = list1 or list2\n",
    "    return head.next\n",
    "\n",
    "headC = mergeTwoLists(headA,headB)\n",
    "\n",
    "print(traverse(headC)) # [1, 1, 2, 2, 4, 5] "
   ]
  },
  {
   "cell_type": "markdown",
   "metadata": {},
   "source": [
    "return the indices of the two elements that add up to target value"
   ]
  },
  {
   "cell_type": "code",
   "execution_count": 9,
   "metadata": {},
   "outputs": [
    {
     "data": {
      "text/plain": [
       "[0, 1]"
      ]
     },
     "execution_count": 9,
     "metadata": {},
     "output_type": "execute_result"
    }
   ],
   "source": [
    "from typing import List\n",
    "\n",
    "class Solution:\n",
    "    \n",
    "    def twoSum(self, nums: List[int], target: int) -> List[int]:\n",
    "        len_nums = len(nums)\n",
    "        for i in range(len_nums):\n",
    "            for j in range(i+1,len_nums):\n",
    "                if nums[i] + nums[j] == target:\n",
    "                    return [i, j]\n",
    "                \n",
    "        return [-1, -1]\n",
    "    \n",
    "solution = Solution()\n",
    "solution.twoSum([2,7,11,15],9)"
   ]
  },
  {
   "cell_type": "markdown",
   "metadata": {},
   "source": [
    "is t a reordered version of s"
   ]
  },
  {
   "cell_type": "code",
   "execution_count": 14,
   "metadata": {},
   "outputs": [
    {
     "data": {
      "text/plain": [
       "True"
      ]
     },
     "execution_count": 14,
     "metadata": {},
     "output_type": "execute_result"
    }
   ],
   "source": [
    "def isAnagram(s: str, t: str) -> bool:\n",
    "    # there is O(n) operation (in) nested within a for loop, so this is O(n^2)\n",
    "    for c in s:\n",
    "        if c in t:\n",
    "            t = t.replace(c,'',1)\n",
    "        else:\n",
    "            return False\n",
    "        \n",
    "    return len(t) == 0\n",
    "\n",
    "isAnagram(\"anagram\", \"nagaram\")"
   ]
  },
  {
   "cell_type": "code",
   "execution_count": 15,
   "metadata": {},
   "outputs": [
    {
     "data": {
      "text/plain": [
       "True"
      ]
     },
     "execution_count": 15,
     "metadata": {},
     "output_type": "execute_result"
    }
   ],
   "source": [
    "def isAnagram(s: str, t: str) -> bool:\n",
    "    \n",
    "    # The ord() function returns an integer representing the Unicode character. \n",
    "    \n",
    "    alp = [0] * 26 # this is a histogram for the counts of each letter\n",
    "    \n",
    "    # if every up count in s is balanced by a downtick in t, the the result is all zero\n",
    "    # a is 97 and z is 122, in alphabetical order\n",
    "    for char in s:\n",
    "        alp[ord(char) - ord('a')] += 1\n",
    "    for char in t:\n",
    "        alp[ord(char) - ord('a')] -= 1\n",
    "        \n",
    "    # if any bin is not 0, return false\n",
    "    for let in alp:\n",
    "        if let != 0: return False\n",
    "        \n",
    "    return True\n",
    "\n",
    "isAnagram(\"anagram\", \"nagaram\")"
   ]
  },
  {
   "cell_type": "code",
   "execution_count": 16,
   "metadata": {},
   "outputs": [
    {
     "name": "stdout",
     "output_type": "stream",
     "text": [
      "97\n",
      "98\n",
      "99\n",
      "100\n",
      "101\n",
      "102\n",
      "103\n",
      "104\n",
      "105\n",
      "106\n",
      "107\n",
      "108\n",
      "109\n",
      "110\n",
      "111\n",
      "112\n",
      "113\n",
      "114\n",
      "115\n",
      "116\n",
      "117\n",
      "118\n",
      "119\n",
      "120\n",
      "121\n",
      "122\n"
     ]
    }
   ],
   "source": [
    "for s in 'abcdefghijklmnopqrstuvwxyz':\n",
    "    print(ord(s))"
   ]
  },
  {
   "cell_type": "markdown",
   "metadata": {},
   "source": [
    "An image is represented by an m x n integer grid image where image[i][j] represents the pixel value of the image.\n",
    "\n",
    "You are also given three integers sr, sc, and color. You should perform a flood fill on the image starting from the pixel image[sr][sc].\n",
    "\n",
    "To perform a flood fill, consider the starting pixel, plus any pixels connected 4-directionally to the starting pixel of the same color as the starting pixel, plus any pixels connected 4-directionally to those pixels (also with the same color), and so on. Replace the color of all of the aforementioned pixels with color.\n",
    "\n",
    "Return the modified image after performing the flood fill.\n",
    "\n",
    "<img src = \"https://assets.leetcode.com/uploads/2021/06/01/flood1-grid.jpg\">"
   ]
  },
  {
   "cell_type": "code",
   "execution_count": 34,
   "metadata": {},
   "outputs": [
    {
     "data": {
      "text/plain": [
       "[[0, 0, 0], [0, 0, 0]]"
      ]
     },
     "execution_count": 34,
     "metadata": {},
     "output_type": "execute_result"
    }
   ],
   "source": [
    "def floodFill(image: List[List[int]], sr: int, sc: int, color: int) -> List[List[int]]:\n",
    "    \n",
    "    orig_color = image[sr][sc]\n",
    "    image[sr][sc] = color\n",
    "\n",
    "    for r,c in [(sr+1,sc),(sr-1,sc),(sr,sc+1),(sr,sc-1)]:\n",
    "        if (-1 < r < len(image)) & (-1 < c < len(image[sr])):\n",
    "            if (image[r][c] == orig_color) & (orig_color != color):\n",
    "                floodFill(image,r,c,color)\n",
    "\n",
    "    return image\n",
    "\n",
    "#floodFill([[1,1,1],[1,1,0],[1,0,1]],1,1,2)\n",
    "floodFill([[0,0,0],[0,0,0]],0,0,0)"
   ]
  },
  {
   "cell_type": "code",
   "execution_count": 36,
   "metadata": {},
   "outputs": [],
   "source": [
    "\n"
   ]
  },
  {
   "cell_type": "code",
   "execution_count": 40,
   "metadata": {},
   "outputs": [],
   "source": []
  },
  {
   "cell_type": "code",
   "execution_count": null,
   "metadata": {},
   "outputs": [],
   "source": []
  }
 ],
 "metadata": {
  "kernelspec": {
   "display_name": "Python 3 (ipykernel)",
   "language": "python",
   "name": "python3"
  },
  "language_info": {
   "codemirror_mode": {
    "name": "ipython",
    "version": 3
   },
   "file_extension": ".py",
   "mimetype": "text/x-python",
   "name": "python",
   "nbconvert_exporter": "python",
   "pygments_lexer": "ipython3",
   "version": "3.10.0"
  }
 },
 "nbformat": 4,
 "nbformat_minor": 2
}
